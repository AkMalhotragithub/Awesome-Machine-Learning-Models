{
 "cells": [
  {
   "cell_type": "markdown",
   "id": "55f1cfa6",
   "metadata": {},
   "source": [
    "# Handwritten Number Detection"
   ]
  },
  {
   "cell_type": "markdown",
   "id": "10983317",
   "metadata": {},
   "source": [
    "### Importing the required libraries"
   ]
  },
  {
   "cell_type": "code",
   "execution_count": 4,
   "id": "7148e5ba",
   "metadata": {},
   "outputs": [],
   "source": [
    "import tensorflow as tf\n",
    "from tensorflow import keras\n",
    "import matplotlib.pyplot as plt\n",
    "%matplotlib inline\n",
    "import numpy as np"
   ]
  },
  {
   "cell_type": "markdown",
   "id": "31549fe0",
   "metadata": {},
   "source": [
    "### Loading dataset and creating training & testing datas "
   ]
  },
  {
   "cell_type": "code",
   "execution_count": 5,
   "id": "ec5e261e",
   "metadata": {},
   "outputs": [],
   "source": [
    "(x_train,y_train), (x_test,y_test) = keras.datasets.mnist.load_data()"
   ]
  },
  {
   "cell_type": "code",
   "execution_count": 6,
   "id": "b64ec53e",
   "metadata": {},
   "outputs": [
    {
     "data": {
      "text/plain": [
       "60000"
      ]
     },
     "execution_count": 6,
     "metadata": {},
     "output_type": "execute_result"
    }
   ],
   "source": [
    "len(x_train)"
   ]
  },
  {
   "cell_type": "code",
   "execution_count": 7,
   "id": "b1a54569",
   "metadata": {},
   "outputs": [
    {
     "data": {
      "text/plain": [
       "10000"
      ]
     },
     "execution_count": 7,
     "metadata": {},
     "output_type": "execute_result"
    }
   ],
   "source": [
    "len(x_test)"
   ]
  },
  {
   "cell_type": "code",
   "execution_count": 8,
   "id": "bf3704bf",
   "metadata": {},
   "outputs": [
    {
     "data": {
      "text/plain": [
       "(28, 28)"
      ]
     },
     "execution_count": 8,
     "metadata": {},
     "output_type": "execute_result"
    }
   ],
   "source": [
    "x_train[0].shape"
   ]
  },
  {
   "cell_type": "code",
   "execution_count": 9,
   "id": "fda85e16",
   "metadata": {
    "scrolled": true
   },
   "outputs": [
    {
     "data": {
      "text/plain": [
       "<matplotlib.image.AxesImage at 0x2eb5f2fc250>"
      ]
     },
     "execution_count": 9,
     "metadata": {},
     "output_type": "execute_result"
    },
    {
     "data": {
      "image/png": "[encoded data removed]",
      "text/plain": [
       "<Figure size 288x288 with 1 Axes>"
      ]
     },
     "metadata": {
      "needs_background": "light"
     },
     "output_type": "display_data"
    }
   ],
   "source": [
    "plt.matshow(x_train[4312])"
   ]
  },
  {
   "cell_type": "code",
   "execution_count": 10,
   "id": "a459104e",
   "metadata": {},
   "outputs": [
    {
     "data": {
      "text/plain": [
       "5"
      ]
     },
     "execution_count": 10,
     "metadata": {},
     "output_type": "execute_result"
    }
   ],
   "source": [
    "y_train[4312]"
   ]
  },
  {
   "cell_type": "code",
   "execution_count": 11,
   "id": "73e5495c",
   "metadata": {},
   "outputs": [
    {
     "data": {
      "text/plain": [
       "(60000, 28, 28)"
      ]
     },
     "execution_count": 11,
     "metadata": {},
     "output_type": "execute_result"
    }
   ],
   "source": [
    "x_train.shape"
   ]
  },
  {
   "cell_type": "markdown",
   "id": "a5c05667",
   "metadata": {},
   "source": [
    "### Scaling the data"
   ]
  },
  {
   "cell_type": "code",
   "execution_count": 12,
   "id": "27daec7e",
   "metadata": {},
   "outputs": [],
   "source": [
    "x_train=x_train/255\n",
    "x_test=x_test/255"
   ]
  },
  {
   "cell_type": "code",
   "execution_count": 13,
   "id": "aeb1ee34",
   "metadata": {},
   "outputs": [],
   "source": [
    "x_train_flattened = x_train.reshape(len(x_train),28*28)\n",
    "x_test_flattened = x_test.reshape(len(x_test),28*28)"
   ]
  },
  {
   "cell_type": "code",
   "execution_count": 14,
   "id": "135cc746",
   "metadata": {},
   "outputs": [
    {
     "data": {
      "text/plain": [
       "(10000, 784)"
      ]
     },
     "execution_count": 14,
     "metadata": {},
     "output_type": "execute_result"
    }
   ],
   "source": [
    "x_test_flattened.shape"
   ]
  },
  {
   "cell_type": "markdown",
   "id": "f70c6b67",
   "metadata": {},
   "source": [
    "## Creating a single layer model"
   ]
  },
  {
   "cell_type": "code",
   "execution_count": 15,
   "id": "23b798b3",
   "metadata": {
    "scrolled": true
   },
   "outputs": [
    {
     "name": "stdout",
     "output_type": "stream",
     "text": [
      "Epoch 1/7\n",
      "1875/1875 [==============================] - 8s 4ms/step - loss: 0.4672 - accuracy: 0.8777\n",
      "Epoch 2/7\n",
      "1875/1875 [==============================] - 6s 3ms/step - loss: 0.3045 - accuracy: 0.9149\n",
      "Epoch 3/7\n",
      "1875/1875 [==============================] - 7s 4ms/step - loss: 0.2833 - accuracy: 0.9206\n",
      "Epoch 4/7\n",
      "1875/1875 [==============================] - 7s 4ms/step - loss: 0.2734 - accuracy: 0.9235\n",
      "Epoch 5/7\n",
      "1875/1875 [==============================] - 7s 4ms/step - loss: 0.2669 - accuracy: 0.9253\n",
      "Epoch 6/7\n",
      "1875/1875 [==============================] - 7s 4ms/step - loss: 0.2622 - accuracy: 0.9266\n",
      "Epoch 7/7\n",
      "1875/1875 [==============================] - 7s 4ms/step - loss: 0.2584 - accuracy: 0.9290\n"
     ]
    },
    {
     "data": {
      "text/plain": [
       "<keras.callbacks.History at 0x2eb5f3a68f0>"
      ]
     },
     "execution_count": 15,
     "metadata": {},
     "output_type": "execute_result"
    }
   ],
   "source": [
    "model = keras.Sequential([\n",
    "    keras.layers.Dense(10, input_shape=(784,), activation='sigmoid'),\n",
    "])\n",
    "\n",
    "model.compile(\n",
    "    optimizer='adam',\n",
    "    loss='sparse_categorical_crossentropy',\n",
    "    metrics=['accuracy']\n",
    ")\n",
    "\n",
    "model.fit(x_train_flattened, y_train, epochs=7)"
   ]
  },
  {
   "cell_type": "markdown",
   "id": "05e590be",
   "metadata": {},
   "source": [
    "### Evaluating the created model"
   ]
  },
  {
   "cell_type": "code",
   "execution_count": 16,
   "id": "0edcc375",
   "metadata": {},
   "outputs": [
    {
     "name": "stdout",
     "output_type": "stream",
     "text": [
      "313/313 [==============================] - 1s 3ms/step - loss: 0.2641 - accuracy: 0.9257\n"
     ]
    },
    {
     "data": {
      "text/plain": [
       "[0.2641167938709259, 0.9257000088691711]"
      ]
     },
     "execution_count": 16,
     "metadata": {},
     "output_type": "execute_result"
    }
   ],
   "source": [
    "model.evaluate(x_test_flattened, y_test)"
   ]
  },
  {
   "cell_type": "code",
   "execution_count": 18,
   "id": "ee6080de",
   "metadata": {},
   "outputs": [
    {
     "name": "stdout",
     "output_type": "stream",
     "text": [
      "313/313 [==============================] - 1s 3ms/step\n"
     ]
    }
   ],
   "source": [
    "y_predicted = model.predict(x_test_flattened)"
   ]
  },
  {
   "cell_type": "code",
   "execution_count": 17,
   "id": "13159781",
   "metadata": {
    "scrolled": true
   },
   "outputs": [
    {
     "data": {
      "text/plain": [
       "<matplotlib.image.AxesImage at 0x2eb5c0d0e50>"
      ]
     },
     "execution_count": 17,
     "metadata": {},
     "output_type": "execute_result"
    },
    {
     "data": {
      "image/png": "[encoded data removed]",
      "text/plain": [
       "<Figure size 288x288 with 1 Axes>"
      ]
     },
     "metadata": {
      "needs_background": "light"
     },
     "output_type": "display_data"
    }
   ],
   "source": [
    "plt.matshow(x_test[5])"
   ]
  },
  {
   "cell_type": "code",
   "execution_count": 19,
   "id": "5080b6c1",
   "metadata": {},
   "outputs": [
    {
     "data": {
      "text/plain": [
       "array([3.0339073e-05, 9.9783683e-01, 4.1816157e-01, 3.0701578e-01,\n",
       "       6.3408292e-03, 1.6885085e-02, 5.7466161e-03, 6.3719445e-01,\n",
       "       4.4825423e-01, 1.3769226e-01], dtype=float32)"
      ]
     },
     "execution_count": 19,
     "metadata": {},
     "output_type": "execute_result"
    }
   ],
   "source": [
    "y_predicted[5]"
   ]
  },
  {
   "cell_type": "code",
   "execution_count": 20,
   "id": "15769528",
   "metadata": {},
   "outputs": [
    {
     "data": {
      "text/plain": [
       "1"
      ]
     },
     "execution_count": 20,
     "metadata": {},
     "output_type": "execute_result"
    }
   ],
   "source": [
    "np.argmax(y_predicted[5])"
   ]
  },
  {
   "cell_type": "markdown",
   "id": "91f54b56",
   "metadata": {},
   "source": [
    "### Making the predictions easier to understand"
   ]
  },
  {
   "cell_type": "code",
   "execution_count": 21,
   "id": "294df6cf",
   "metadata": {},
   "outputs": [
    {
     "data": {
      "text/plain": [
       "[7, 2, 1, 0, 4]"
      ]
     },
     "execution_count": 21,
     "metadata": {},
     "output_type": "execute_result"
    }
   ],
   "source": [
    "y_predicted_labels = [np.argmax(i) for i in y_predicted]\n",
    "y_predicted_labels[:5]"
   ]
  },
  {
   "cell_type": "code",
   "execution_count": 22,
   "id": "21afb7e0",
   "metadata": {},
   "outputs": [
    {
     "data": {
      "text/plain": [
       "array([7, 2, 1, 0, 4], dtype=uint8)"
      ]
     },
     "execution_count": 22,
     "metadata": {},
     "output_type": "execute_result"
    }
   ],
   "source": [
    "y_test[:5]"
   ]
  },
  {
   "cell_type": "code",
   "execution_count": 24,
   "id": "0b45f9bf",
   "metadata": {},
   "outputs": [
    {
     "data": {
      "text/plain": [
       "Text(69.0, 0.5, 'Truth')"
      ]
     },
     "execution_count": 24,
     "metadata": {},
     "output_type": "execute_result"
    },
    {
     "data": {
      "image/png": "[encoded data removed]",
      "text/plain": [
       "<Figure size 720x504 with 2 Axes>"
      ]
     },
     "metadata": {
      "needs_background": "light"
     },
     "output_type": "display_data"
    }
   ],
   "source": [
    "import seaborn as sn\n",
    "plt.figure(figsize=(10,7))\n",
    "sn.heatmap(cm, annot=True, fmt='d')\n",
    "plt.xlabel(\"Predicted\")\n",
    "plt.ylabel(\"Truth\")"
   ]
  },
  {
   "cell_type": "markdown",
   "id": "102b47d7",
   "metadata": {},
   "source": [
    "## Adding a hidden layer"
   ]
  },
  {
   "cell_type": "code",
   "execution_count": 31,
   "id": "6f615102",
   "metadata": {
    "scrolled": true
   },
   "outputs": [
    {
     "name": "stdout",
     "output_type": "stream",
     "text": [
      "Epoch 1/12\n",
      "1875/1875 [==============================] - 9s 4ms/step - loss: 0.2257 - accuracy: 0.9338\n",
      "Epoch 2/12\n",
      "1875/1875 [==============================] - 8s 4ms/step - loss: 0.0930 - accuracy: 0.9722\n",
      "Epoch 3/12\n",
      "1875/1875 [==============================] - 8s 4ms/step - loss: 0.0604 - accuracy: 0.9812\n",
      "Epoch 4/12\n",
      "1875/1875 [==============================] - 8s 4ms/step - loss: 0.0446 - accuracy: 0.9861\n",
      "Epoch 5/12\n",
      "1875/1875 [==============================] - 8s 4ms/step - loss: 0.0329 - accuracy: 0.9890\n",
      "Epoch 6/12\n",
      "1875/1875 [==============================] - 8s 4ms/step - loss: 0.0249 - accuracy: 0.9923\n",
      "Epoch 7/12\n",
      "1875/1875 [==============================] - 8s 4ms/step - loss: 0.0201 - accuracy: 0.9935\n",
      "Epoch 8/12\n",
      "1875/1875 [==============================] - 8s 4ms/step - loss: 0.0155 - accuracy: 0.9950\n",
      "Epoch 9/12\n",
      "1875/1875 [==============================] - 8s 4ms/step - loss: 0.0140 - accuracy: 0.9953\n",
      "Epoch 10/12\n",
      "1875/1875 [==============================] - 8s 4ms/step - loss: 0.0109 - accuracy: 0.9963\n",
      "Epoch 11/12\n",
      "1875/1875 [==============================] - 8s 4ms/step - loss: 0.0103 - accuracy: 0.9967\n",
      "Epoch 12/12\n",
      "1875/1875 [==============================] - 9s 5ms/step - loss: 0.0083 - accuracy: 0.9974\n"
     ]
    },
    {
     "data": {
      "text/plain": [
       "<keras.callbacks.History at 0x2eb7f642290>"
      ]
     },
     "execution_count": 31,
     "metadata": {},
     "output_type": "execute_result"
    }
   ],
   "source": [
    "model1 = keras.Sequential([\n",
    "    keras.layers.Dense(250, input_shape=(784,), activation='relu'),\n",
    "    keras.layers.Dense(10, activation='sigmoid'),\n",
    "\n",
    "])\n",
    "\n",
    "model1.compile(\n",
    "    optimizer='adam',\n",
    "    loss='sparse_categorical_crossentropy',\n",
    "    metrics=['accuracy']\n",
    ")\n",
    "\n",
    "model1.fit(x_train_flattened, y_train, epochs=12)"
   ]
  },
  {
   "cell_type": "markdown",
   "id": "b115afa9",
   "metadata": {},
   "source": [
    "### Evaluating the new model"
   ]
  },
  {
   "cell_type": "code",
   "execution_count": 32,
   "id": "16db7858",
   "metadata": {},
   "outputs": [
    {
     "name": "stdout",
     "output_type": "stream",
     "text": [
      "313/313 [==============================] - 1s 3ms/step - loss: 0.0758 - accuracy: 0.9824\n"
     ]
    },
    {
     "data": {
      "text/plain": [
       "[0.07584990561008453, 0.9824000000953674]"
      ]
     },
     "execution_count": 32,
     "metadata": {},
     "output_type": "execute_result"
    }
   ],
   "source": [
    "model1.evaluate(x_test_flattened, y_test)"
   ]
  },
  {
   "cell_type": "code",
   "execution_count": 41,
   "id": "080f65f7",
   "metadata": {
    "scrolled": true
   },
   "outputs": [
    {
     "data": {
      "text/plain": [
       "array([[5.29963290e-05, 2.00592895e-05, 8.50096170e-04, ...,\n",
       "        9.99999762e-01, 1.99171947e-04, 2.46526331e-01],\n",
       "       [5.66535675e-07, 4.88401800e-02, 1.00000000e+00, ...,\n",
       "        2.01890551e-17, 4.12809430e-03, 3.42477847e-12],\n",
       "       [5.93656964e-08, 9.99990284e-01, 9.08992141e-02, ...,\n",
       "        1.38007358e-01, 1.13392875e-01, 1.20610548e-06],\n",
       "       ...,\n",
       "       [2.53405678e-14, 9.47135064e-08, 3.70463174e-11, ...,\n",
       "        1.55472318e-02, 9.93241295e-02, 9.70507801e-01],\n",
       "       [3.10611867e-05, 1.29792488e-08, 9.28033671e-07, ...,\n",
       "        6.58482304e-06, 7.48561859e-01, 4.36099712e-10],\n",
       "       [1.90209619e-06, 8.22203959e-13, 2.43138129e-06, ...,\n",
       "        2.17260658e-13, 2.05293944e-07, 3.19780639e-07]], dtype=float32)"
      ]
     },
     "execution_count": 41,
     "metadata": {},
     "output_type": "execute_result"
    }
   ],
   "source": [
    "y_predicted_new"
   ]
  },
  {
   "cell_type": "code",
   "execution_count": 40,
   "id": "679c0c61",
   "metadata": {},
   "outputs": [
    {
     "name": "stdout",
     "output_type": "stream",
     "text": [
      "313/313 [==============================] - 1s 2ms/step\n"
     ]
    }
   ],
   "source": [
    "y_predicted_new = model1.predict(x_test_flattened)\n",
    "y_predicted_labels_new = [np.argmax(i) for i in y_predicted_new]"
   ]
  },
  {
   "cell_type": "code",
   "execution_count": 42,
   "id": "e9f45c0c",
   "metadata": {
    "scrolled": true
   },
   "outputs": [
    {
     "data": {
      "text/plain": [
       "[7,\n",
       " 2,\n",
       " 1,\n",
       " 0,\n",
       " 4,\n",
       " 1,\n",
       " 4,\n",
       " 9,\n",
       " 5,\n",
       " 9,\n",
       " 0,\n",
       " 6,\n",
       " 9,\n",
       " 0,\n",
       " 1,\n",
       " 5,\n",
       " 9,\n",
       " 7,\n",
       " 8,\n",
       " 4,\n",
       " 9,\n",
       " 6,\n",
       " 6,\n",
       " 5,\n",
       " 4,\n",
       " 0,\n",
       " 7,\n",
       " 4,\n",
       " 0,\n",
       " 1,\n",
       " 3,\n",
       " 1,\n",
       " 3,\n",
       " 4,\n",
       " 7,\n",
       " 2,\n",
       " 7,\n",
       " 1,\n",
       " 2,\n",
       " 1,\n",
       " 1,\n",
       " 7,\n",
       " 4,\n",
       " 2,\n",
       " 3,\n",
       " 5,\n",
       " 1,\n",
       " 2,\n",
       " 4,\n",
       " 4,\n",
       " 6,\n",
       " 3,\n",
       " 5,\n",
       " 5,\n",
       " 6,\n",
       " 0,\n",
       " 4,\n",
       " 1,\n",
       " 9,\n",
       " 5,\n",
       " 7,\n",
       " 8,\n",
       " 9,\n",
       " 3,\n",
       " 7,\n",
       " 4,\n",
       " 6,\n",
       " 4,\n",
       " 3,\n",
       " 0,\n",
       " 7,\n",
       " 0,\n",
       " 2,\n",
       " 9,\n",
       " 1,\n",
       " 7,\n",
       " 3,\n",
       " 2,\n",
       " 9,\n",
       " 7,\n",
       " 7,\n",
       " 6,\n",
       " 2,\n",
       " 7,\n",
       " 8,\n",
       " 4,\n",
       " 7,\n",
       " 3,\n",
       " 6,\n",
       " 1,\n",
       " 3,\n",
       " 6,\n",
       " 9,\n",
       " 3,\n",
       " 1,\n",
       " 4,\n",
       " 1,\n",
       " 7,\n",
       " 6,\n",
       " 9,\n",
       " 6,\n",
       " 0,\n",
       " 5,\n",
       " 4,\n",
       " 5,\n",
       " 9,\n",
       " 2,\n",
       " 1,\n",
       " 9,\n",
       " 4,\n",
       " 8,\n",
       " 7,\n",
       " 3,\n",
       " 9,\n",
       " 7,\n",
       " 9,\n",
       " 4,\n",
       " 4,\n",
       " 9,\n",
       " 2,\n",
       " 5,\n",
       " 4,\n",
       " 7,\n",
       " 6,\n",
       " 7,\n",
       " 9,\n",
       " 0,\n",
       " 5,\n",
       " 8,\n",
       " 5,\n",
       " 6,\n",
       " 6,\n",
       " 5,\n",
       " 7,\n",
       " 8,\n",
       " 1,\n",
       " 0,\n",
       " 1,\n",
       " 6,\n",
       " 4,\n",
       " 6,\n",
       " 7,\n",
       " 3,\n",
       " 1,\n",
       " 7,\n",
       " 1,\n",
       " 8,\n",
       " 2,\n",
       " 0,\n",
       " 9,\n",
       " 9,\n",
       " 9,\n",
       " 5,\n",
       " 5,\n",
       " 1,\n",
       " 5,\n",
       " 6,\n",
       " 0,\n",
       " 3,\n",
       " 4,\n",
       " 4,\n",
       " 6,\n",
       " 5,\n",
       " 4,\n",
       " 6,\n",
       " 5,\n",
       " 4,\n",
       " 5,\n",
       " 1,\n",
       " 4,\n",
       " 4,\n",
       " 7,\n",
       " 2,\n",
       " 3,\n",
       " 2,\n",
       " 7,\n",
       " 1,\n",
       " 8,\n",
       " 1,\n",
       " 8,\n",
       " 1,\n",
       " 8,\n",
       " 5,\n",
       " 0,\n",
       " 8,\n",
       " 9,\n",
       " 2,\n",
       " 5,\n",
       " 0,\n",
       " 1,\n",
       " 1,\n",
       " 1,\n",
       " 0,\n",
       " 9,\n",
       " 0,\n",
       " 3,\n",
       " 1,\n",
       " 6,\n",
       " 4,\n",
       " 2,\n",
       " 3,\n",
       " 6,\n",
       " 1,\n",
       " 1,\n",
       " 1,\n",
       " 3,\n",
       " 9,\n",
       " 5,\n",
       " 2,\n",
       " 9,\n",
       " 4,\n",
       " 5,\n",
       " 9,\n",
       " 3,\n",
       " 9,\n",
       " 0,\n",
       " 3,\n",
       " 6,\n",
       " 5,\n",
       " 5,\n",
       " 7,\n",
       " 2,\n",
       " 2,\n",
       " 7,\n",
       " 1,\n",
       " 2,\n",
       " 8,\n",
       " 4,\n",
       " 1,\n",
       " 7,\n",
       " 3,\n",
       " 3,\n",
       " 8,\n",
       " 8,\n",
       " 7,\n",
       " 9,\n",
       " 2,\n",
       " 2,\n",
       " 4,\n",
       " 1,\n",
       " 5,\n",
       " 9,\n",
       " 8,\n",
       " 7,\n",
       " 2,\n",
       " 3,\n",
       " 0,\n",
       " 2,\n",
       " 4,\n",
       " 2,\n",
       " 4,\n",
       " 1,\n",
       " 9,\n",
       " 5,\n",
       " 7,\n",
       " 7,\n",
       " 2,\n",
       " 8,\n",
       " 2,\n",
       " 6,\n",
       " 8,\n",
       " 5,\n",
       " 7,\n",
       " 7,\n",
       " 9,\n",
       " 1,\n",
       " 8,\n",
       " 1,\n",
       " 8,\n",
       " 0,\n",
       " 3,\n",
       " 0,\n",
       " 1,\n",
       " 9,\n",
       " 3,\n",
       " 4,\n",
       " 1,\n",
       " 8,\n",
       " 2,\n",
       " 1,\n",
       " 2,\n",
       " 9,\n",
       " 7,\n",
       " 5,\n",
       " 9,\n",
       " 2,\n",
       " 6,\n",
       " 4,\n",
       " 1,\n",
       " 5,\n",
       " 8,\n",
       " 2,\n",
       " 9,\n",
       " 2,\n",
       " 0,\n",
       " 4,\n",
       " 0,\n",
       " 0,\n",
       " 2,\n",
       " 8,\n",
       " 4,\n",
       " 7,\n",
       " 1,\n",
       " 2,\n",
       " 4,\n",
       " 0,\n",
       " 2,\n",
       " 7,\n",
       " 4,\n",
       " 3,\n",
       " 3,\n",
       " 0,\n",
       " 0,\n",
       " 3,\n",
       " 1,\n",
       " 9,\n",
       " 6,\n",
       " 5,\n",
       " 2,\n",
       " 5,\n",
       " 9,\n",
       " 7,\n",
       " 9,\n",
       " 3,\n",
       " 0,\n",
       " 4,\n",
       " 2,\n",
       " 0,\n",
       " 7,\n",
       " 1,\n",
       " 1,\n",
       " 2,\n",
       " 1,\n",
       " 5,\n",
       " 3,\n",
       " 3,\n",
       " 9,\n",
       " 7,\n",
       " 8,\n",
       " 6,\n",
       " 3,\n",
       " 6,\n",
       " 1,\n",
       " 3,\n",
       " 8,\n",
       " 1,\n",
       " 0,\n",
       " 5,\n",
       " 1,\n",
       " 3,\n",
       " 1,\n",
       " 5,\n",
       " 5,\n",
       " 6,\n",
       " 1,\n",
       " 8,\n",
       " 5,\n",
       " 1,\n",
       " 7,\n",
       " 9,\n",
       " 4,\n",
       " 6,\n",
       " 2,\n",
       " 2,\n",
       " 5,\n",
       " 0,\n",
       " 6,\n",
       " 5,\n",
       " 6,\n",
       " 3,\n",
       " 7,\n",
       " 2,\n",
       " 0,\n",
       " 8,\n",
       " 8,\n",
       " 5,\n",
       " 4,\n",
       " 1,\n",
       " 1,\n",
       " 4,\n",
       " 0,\n",
       " 3,\n",
       " 3,\n",
       " 7,\n",
       " 6,\n",
       " 1,\n",
       " 6,\n",
       " 2,\n",
       " 1,\n",
       " 9,\n",
       " 2,\n",
       " 8,\n",
       " 6,\n",
       " 1,\n",
       " 9,\n",
       " 5,\n",
       " 2,\n",
       " 5,\n",
       " 4,\n",
       " 4,\n",
       " 2,\n",
       " 8,\n",
       " 3,\n",
       " 8,\n",
       " 2,\n",
       " 4,\n",
       " 5,\n",
       " 0,\n",
       " 3,\n",
       " 1,\n",
       " 7,\n",
       " 7,\n",
       " 5,\n",
       " 7,\n",
       " 9,\n",
       " 7,\n",
       " 1,\n",
       " 9,\n",
       " 2,\n",
       " 1,\n",
       " 4,\n",
       " 2,\n",
       " 9,\n",
       " 2,\n",
       " 0,\n",
       " 4,\n",
       " 9,\n",
       " 1,\n",
       " 4,\n",
       " 8,\n",
       " 1,\n",
       " 8,\n",
       " 4,\n",
       " 5,\n",
       " 9,\n",
       " 8,\n",
       " 8,\n",
       " 3,\n",
       " 7,\n",
       " 6,\n",
       " 0,\n",
       " 0,\n",
       " 3,\n",
       " 0,\n",
       " 2,\n",
       " 0,\n",
       " 6,\n",
       " 4,\n",
       " 9,\n",
       " 3,\n",
       " 3,\n",
       " 3,\n",
       " 2,\n",
       " 3,\n",
       " 9,\n",
       " 1,\n",
       " 2,\n",
       " 6,\n",
       " 8,\n",
       " 0,\n",
       " 5,\n",
       " 6,\n",
       " 6,\n",
       " 6,\n",
       " 3,\n",
       " 8,\n",
       " 8,\n",
       " 2,\n",
       " 7,\n",
       " 5,\n",
       " 8,\n",
       " 9,\n",
       " 6,\n",
       " 1,\n",
       " 8,\n",
       " 4,\n",
       " 1,\n",
       " 2,\n",
       " 5,\n",
       " 9,\n",
       " 1,\n",
       " 9,\n",
       " 7,\n",
       " 5,\n",
       " 4,\n",
       " 0,\n",
       " 8,\n",
       " 9,\n",
       " 9,\n",
       " 1,\n",
       " 0,\n",
       " 5,\n",
       " 2,\n",
       " 3,\n",
       " 7,\n",
       " 2,\n",
       " 9,\n",
       " 4,\n",
       " 0,\n",
       " 6,\n",
       " 3,\n",
       " 9,\n",
       " 5,\n",
       " 2,\n",
       " 1,\n",
       " 3,\n",
       " 1,\n",
       " 3,\n",
       " 6,\n",
       " 5,\n",
       " 7,\n",
       " 4,\n",
       " 2,\n",
       " 2,\n",
       " 6,\n",
       " 3,\n",
       " 2,\n",
       " 6,\n",
       " 5,\n",
       " 4,\n",
       " 8,\n",
       " 9,\n",
       " 7,\n",
       " 1,\n",
       " 3,\n",
       " 0,\n",
       " 3,\n",
       " 8,\n",
       " 3,\n",
       " 1,\n",
       " 9,\n",
       " 3,\n",
       " 4,\n",
       " 4,\n",
       " 6,\n",
       " 4,\n",
       " 2,\n",
       " 1,\n",
       " 8,\n",
       " 2,\n",
       " 5,\n",
       " 4,\n",
       " 8,\n",
       " 8,\n",
       " 4,\n",
       " 0,\n",
       " 0,\n",
       " 2,\n",
       " 3,\n",
       " 2,\n",
       " 7,\n",
       " 7,\n",
       " 0,\n",
       " 8,\n",
       " 7,\n",
       " 4,\n",
       " 4,\n",
       " 7,\n",
       " 9,\n",
       " 6,\n",
       " 9,\n",
       " 0,\n",
       " 9,\n",
       " 8,\n",
       " 0,\n",
       " 4,\n",
       " 6,\n",
       " 0,\n",
       " 6,\n",
       " 3,\n",
       " 5,\n",
       " 4,\n",
       " 8,\n",
       " 3,\n",
       " 3,\n",
       " 9,\n",
       " 3,\n",
       " 3,\n",
       " 3,\n",
       " 7,\n",
       " 8,\n",
       " 0,\n",
       " 2,\n",
       " 2,\n",
       " 1,\n",
       " 7,\n",
       " 0,\n",
       " 6,\n",
       " 5,\n",
       " 4,\n",
       " 3,\n",
       " 8,\n",
       " 0,\n",
       " 9,\n",
       " 6,\n",
       " 3,\n",
       " 8,\n",
       " 0,\n",
       " 9,\n",
       " 9,\n",
       " 6,\n",
       " 8,\n",
       " 6,\n",
       " 8,\n",
       " 5,\n",
       " 7,\n",
       " 8,\n",
       " 6,\n",
       " 0,\n",
       " 2,\n",
       " 4,\n",
       " 0,\n",
       " 2,\n",
       " 2,\n",
       " 3,\n",
       " 1,\n",
       " 9,\n",
       " 7,\n",
       " 5,\n",
       " 8,\n",
       " 0,\n",
       " 8,\n",
       " 4,\n",
       " 6,\n",
       " 2,\n",
       " 6,\n",
       " 7,\n",
       " 9,\n",
       " 3,\n",
       " 2,\n",
       " 9,\n",
       " 8,\n",
       " 2,\n",
       " 2,\n",
       " 9,\n",
       " 2,\n",
       " 7,\n",
       " 3,\n",
       " 5,\n",
       " 9,\n",
       " 1,\n",
       " 8,\n",
       " 0,\n",
       " 2,\n",
       " 0,\n",
       " 5,\n",
       " 2,\n",
       " 1,\n",
       " 3,\n",
       " 7,\n",
       " 6,\n",
       " 7,\n",
       " 1,\n",
       " 2,\n",
       " 5,\n",
       " 8,\n",
       " 0,\n",
       " 3,\n",
       " 7,\n",
       " 2,\n",
       " 4,\n",
       " 0,\n",
       " 9,\n",
       " 1,\n",
       " 8,\n",
       " 6,\n",
       " 7,\n",
       " 7,\n",
       " 4,\n",
       " 3,\n",
       " 4,\n",
       " 9,\n",
       " 1,\n",
       " 9,\n",
       " 3,\n",
       " 1,\n",
       " 7,\n",
       " 3,\n",
       " 9,\n",
       " 7,\n",
       " 6,\n",
       " 9,\n",
       " 1,\n",
       " 3,\n",
       " 3,\n",
       " 8,\n",
       " 3,\n",
       " 3,\n",
       " 6,\n",
       " 7,\n",
       " 2,\n",
       " 4,\n",
       " 5,\n",
       " 8,\n",
       " 5,\n",
       " 1,\n",
       " 1,\n",
       " 4,\n",
       " 4,\n",
       " 3,\n",
       " 1,\n",
       " 0,\n",
       " 7,\n",
       " 7,\n",
       " 0,\n",
       " 7,\n",
       " 9,\n",
       " 4,\n",
       " 4,\n",
       " 8,\n",
       " 5,\n",
       " 5,\n",
       " 4,\n",
       " 0,\n",
       " 8,\n",
       " 2,\n",
       " 1,\n",
       " 0,\n",
       " 8,\n",
       " 4,\n",
       " 8,\n",
       " 0,\n",
       " 4,\n",
       " 0,\n",
       " 6,\n",
       " 1,\n",
       " 9,\n",
       " 3,\n",
       " 2,\n",
       " 6,\n",
       " 7,\n",
       " 2,\n",
       " 6,\n",
       " 9,\n",
       " 3,\n",
       " 1,\n",
       " 4,\n",
       " 6,\n",
       " 2,\n",
       " 5,\n",
       " 9,\n",
       " 2,\n",
       " 0,\n",
       " 6,\n",
       " 2,\n",
       " 1,\n",
       " 7,\n",
       " 3,\n",
       " 4,\n",
       " 1,\n",
       " 0,\n",
       " 5,\n",
       " 4,\n",
       " 3,\n",
       " 1,\n",
       " 1,\n",
       " 7,\n",
       " 4,\n",
       " 9,\n",
       " 9,\n",
       " 4,\n",
       " 8,\n",
       " 4,\n",
       " 0,\n",
       " 2,\n",
       " 4,\n",
       " 5,\n",
       " 1,\n",
       " 1,\n",
       " 6,\n",
       " 4,\n",
       " 7,\n",
       " 1,\n",
       " 9,\n",
       " 4,\n",
       " 2,\n",
       " 4,\n",
       " 1,\n",
       " 5,\n",
       " 5,\n",
       " 3,\n",
       " 8,\n",
       " 3,\n",
       " 1,\n",
       " 4,\n",
       " 5,\n",
       " 6,\n",
       " 8,\n",
       " 9,\n",
       " 4,\n",
       " 1,\n",
       " 5,\n",
       " 3,\n",
       " 8,\n",
       " 0,\n",
       " 3,\n",
       " 2,\n",
       " 5,\n",
       " 1,\n",
       " 2,\n",
       " 8,\n",
       " 3,\n",
       " 4,\n",
       " 4,\n",
       " 0,\n",
       " 8,\n",
       " 8,\n",
       " 3,\n",
       " 3,\n",
       " 1,\n",
       " 7,\n",
       " 3,\n",
       " 5,\n",
       " 9,\n",
       " 6,\n",
       " 3,\n",
       " 2,\n",
       " 6,\n",
       " 1,\n",
       " 3,\n",
       " 6,\n",
       " 0,\n",
       " 7,\n",
       " 2,\n",
       " 1,\n",
       " 7,\n",
       " 1,\n",
       " 4,\n",
       " 2,\n",
       " 4,\n",
       " 2,\n",
       " 1,\n",
       " 7,\n",
       " 9,\n",
       " 6,\n",
       " 1,\n",
       " 1,\n",
       " 2,\n",
       " 4,\n",
       " 8,\n",
       " 1,\n",
       " 7,\n",
       " 7,\n",
       " 4,\n",
       " 8,\n",
       " 0,\n",
       " 7,\n",
       " 3,\n",
       " 1,\n",
       " 3,\n",
       " 1,\n",
       " 0,\n",
       " 7,\n",
       " 7,\n",
       " 0,\n",
       " 3,\n",
       " 5,\n",
       " 5,\n",
       " 2,\n",
       " 7,\n",
       " 6,\n",
       " 6,\n",
       " 9,\n",
       " 2,\n",
       " 8,\n",
       " 3,\n",
       " 5,\n",
       " 2,\n",
       " 2,\n",
       " 5,\n",
       " 6,\n",
       " 0,\n",
       " 8,\n",
       " 2,\n",
       " 9,\n",
       " 2,\n",
       " 8,\n",
       " 8,\n",
       " 8,\n",
       " 8,\n",
       " 7,\n",
       " 4,\n",
       " 7,\n",
       " 3,\n",
       " 0,\n",
       " 6,\n",
       " 6,\n",
       " 3,\n",
       " 2,\n",
       " 1,\n",
       " 3,\n",
       " 2,\n",
       " 2,\n",
       " 9,\n",
       " 3,\n",
       " 0,\n",
       " 0,\n",
       " 5,\n",
       " 7,\n",
       " 8,\n",
       " 1,\n",
       " 4,\n",
       " 4,\n",
       " 6,\n",
       " 0,\n",
       " 2,\n",
       " 9,\n",
       " 1,\n",
       " 4,\n",
       " 7,\n",
       " 4,\n",
       " 7,\n",
       " 3,\n",
       " 9,\n",
       " 8,\n",
       " 8,\n",
       " 4,\n",
       " 7,\n",
       " 1,\n",
       " 2,\n",
       " 1,\n",
       " 2,\n",
       " 2,\n",
       " 3,\n",
       " 2,\n",
       " 3,\n",
       " 2,\n",
       " 3,\n",
       " 9,\n",
       " 1,\n",
       " 7,\n",
       " 4,\n",
       " 0,\n",
       " 3,\n",
       " 5,\n",
       " 5,\n",
       " 8,\n",
       " 6,\n",
       " 3,\n",
       " 2,\n",
       " 6,\n",
       " 7,\n",
       " 6,\n",
       " 6,\n",
       " 3,\n",
       " 2,\n",
       " 7,\n",
       " 9,\n",
       " 1,\n",
       " 1,\n",
       " 7,\n",
       " 4,\n",
       " 6,\n",
       " 4,\n",
       " 9,\n",
       " 5,\n",
       " 1,\n",
       " 3,\n",
       " 3,\n",
       " 4,\n",
       " 7,\n",
       " 8,\n",
       " 9,\n",
       " 1,\n",
       " 1,\n",
       " 0,\n",
       " 9,\n",
       " 1,\n",
       " 4,\n",
       " 4,\n",
       " 5,\n",
       " 4,\n",
       " 0,\n",
       " 6,\n",
       " 2,\n",
       " 2,\n",
       " 3,\n",
       " 1,\n",
       " 5,\n",
       " 1,\n",
       " 2,\n",
       " 0,\n",
       " 3,\n",
       " 8,\n",
       " 1,\n",
       " 2,\n",
       " 6,\n",
       " 7,\n",
       " 1,\n",
       " 6,\n",
       " 2,\n",
       " 3,\n",
       " 9,\n",
       " 0,\n",
       " 1,\n",
       " 2,\n",
       " 2,\n",
       " 0,\n",
       " 8,\n",
       " 9,\n",
       " ...]"
      ]
     },
     "execution_count": 42,
     "metadata": {},
     "output_type": "execute_result"
    }
   ],
   "source": [
    "y_predicted_labels_new"
   ]
  },
  {
   "cell_type": "code",
   "execution_count": 38,
   "id": "dadc98c2",
   "metadata": {},
   "outputs": [],
   "source": [
    "cm = tf.math.confusion_matrix(labels=y_test, predictions = y_predicted_labels_new)"
   ]
  },
  {
   "cell_type": "code",
   "execution_count": 39,
   "id": "c7ad9b4a",
   "metadata": {},
   "outputs": [
    {
     "data": {
      "text/plain": [
       "Text(69.0, 0.5, 'Truth')"
      ]
     },
     "execution_count": 39,
     "metadata": {},
     "output_type": "execute_result"
    },
    {
     "data": {
      "image/png": "[encoded data removed]",
      "text/plain": [
       "<Figure size 720x504 with 2 Axes>"
      ]
     },
     "metadata": {
      "needs_background": "light"
     },
     "output_type": "display_data"
    }
   ],
   "source": [
    "import seaborn as sn\n",
    "plt.figure(figsize=(10,7))\n",
    "sn.heatmap(cm, annot=True, fmt='d')\n",
    "plt.xlabel(\"Predicted\")\n",
    "plt.ylabel(\"Truth\")"
   ]
  }
 ],
 "metadata": {
  "kernelspec": {
   "display_name": "Python 3.10.5 64-bit",
   "language": "python",
   "name": "python3"
  },
  "language_info": {
   "codemirror_mode": {
    "name": "ipython",
    "version": 3
   },
   "file_extension": ".py",
   "mimetype": "text/x-python",
   "name": "python",
   "nbconvert_exporter": "python",
   "pygments_lexer": "ipython3",
   "version": "3.10.5"
  },
  "vscode": {
   "interpreter": {
    "hash": "26de051ba29f2982a8de78e945f0abaf191376122a1563185a90213a26c5da77"
   }
  }
 },
 "nbformat": 4,
 "nbformat_minor": 5
}
