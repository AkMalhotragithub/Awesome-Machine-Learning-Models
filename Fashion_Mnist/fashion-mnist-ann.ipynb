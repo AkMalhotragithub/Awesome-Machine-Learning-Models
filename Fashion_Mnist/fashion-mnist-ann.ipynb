{
 "cells": [
  {
   "cell_type": "markdown",
   "id": "previous-jumping",
   "metadata": {
    "papermill": {
     "duration": 0.023017,
     "end_time": "2021-06-12T21:28:07.954010",
     "exception": false,
     "start_time": "2021-06-12T21:28:07.930993",
     "status": "completed"
    },
    "tags": []
   },
   "source": [
    "# **Importing all Important Libraries**"
   ]
  },
  {
   "cell_type": "code",
   "execution_count": 1,
   "id": "short-coaching",
   "metadata": {
    "_cell_guid": "b1076dfc-b9ad-4769-8c92-a6c4dae69d19",
    "_uuid": "8f2839f25d086af736a60e9eeb907d3b93b6e0e5",
    "execution": {
     "iopub.execute_input": "2021-06-12T21:28:08.002125Z",
     "iopub.status.busy": "2021-06-12T21:28:08.000992Z",
     "iopub.status.idle": "2021-06-12T21:28:13.548745Z",
     "shell.execute_reply": "2021-06-12T21:28:13.547681Z",
     "shell.execute_reply.started": "2021-06-12T21:18:51.413209Z"
    },
    "papermill": {
     "duration": 5.572499,
     "end_time": "2021-06-12T21:28:13.549030",
     "exception": false,
     "start_time": "2021-06-12T21:28:07.976531",
     "status": "completed"
    },
    "tags": []
   },
   "outputs": [
    {
     "name": "stdout",
     "output_type": "stream",
     "text": [
      "/kaggle/input/fashionmnist/t10k-labels-idx1-ubyte\n",
      "/kaggle/input/fashionmnist/t10k-images-idx3-ubyte\n",
      "/kaggle/input/fashionmnist/fashion-mnist_test.csv\n",
      "/kaggle/input/fashionmnist/fashion-mnist_train.csv\n",
      "/kaggle/input/fashionmnist/train-labels-idx1-ubyte\n",
      "/kaggle/input/fashionmnist/train-images-idx3-ubyte\n"
     ]
    }
   ],
   "source": [
    "# This Python 3 environment comes with many helpful analytics libraries installed\n",
    "# It is defined by the kaggle/python Docker image: https://github.com/kaggle/docker-python\n",
    "# For example, here's several helpful packages to load\n",
    "import keras\n",
    "import numpy as np # linear algebra\n",
    "import pandas as pd # data processing, CSV file I/O (e.g. pd.read_csv)\n",
    "import matplotlib\n",
    "import matplotlib.pyplot as plt\n",
    "import seaborn as sns\n",
    "# Input data files are available in the read-only \"../input/\" directory\n",
    "# For example, running this (by clicking run or pressing Shift+Enter) will list all files under the input directory\n",
    "\n",
    "import os\n",
    "for dirname, _, filenames in os.walk('/kaggle/input'):\n",
    "    for filename in filenames:\n",
    "        print(os.path.join(dirname, filename))\n",
    "\n",
    "# You can write up to 20GB to the current directory (/kaggle/working/) that gets preserved as output when you create a version using \"Save & Run All\" \n",
    "# You can also write temporary files to /kaggle/temp/, but they won't be saved outside of the current session"
   ]
  },
  {
   "cell_type": "markdown",
   "id": "weekly-meditation",
   "metadata": {
    "papermill": {
     "duration": 0.020967,
     "end_time": "2021-06-12T21:28:13.593181",
     "exception": false,
     "start_time": "2021-06-12T21:28:13.572214",
     "status": "completed"
    },
    "tags": []
   },
   "source": [
    "\n",
    "* **CLASS LABELS**\n",
    "*  **0 = T-shirt/top** \n",
    "*  **1 = Trouser**\n",
    "*  **2 = Pullover**\n",
    "*  **3 = Dress**\n",
    "*  **4 = Coat**\n",
    "*  **5 = Sandal** \n",
    "*  **6 = Shirt**\n",
    "*  **7 = Sneaker** \n",
    "*  **8 = Bag** \n",
    "* **9 = Ankle boot**"
   ]
  },
  {
   "cell_type": "code",
   "execution_count": 2,
   "id": "ranging-whale",
   "metadata": {
    "execution": {
     "iopub.execute_input": "2021-06-12T21:28:13.639544Z",
     "iopub.status.busy": "2021-06-12T21:28:13.638645Z",
     "iopub.status.idle": "2021-06-12T21:28:13.642803Z",
     "shell.execute_reply": "2021-06-12T21:28:13.643193Z",
     "shell.execute_reply.started": "2021-06-12T21:18:51.433987Z"
    },
    "papermill": {
     "duration": 0.028904,
     "end_time": "2021-06-12T21:28:13.643340",
     "exception": false,
     "start_time": "2021-06-12T21:28:13.614436",
     "status": "completed"
    },
    "tags": []
   },
   "outputs": [],
   "source": [
    "\n",
    "class_labels= ['T-shirt/top','Trouser','Pullover','Dress','Coat','Sandal','Shirt','Sneakers','Bag','Ankle boot']\n",
    "\n",
    " \n",
    "\n"
   ]
  },
  {
   "cell_type": "markdown",
   "id": "acceptable-newcastle",
   "metadata": {
    "papermill": {
     "duration": 0.021148,
     "end_time": "2021-06-12T21:28:13.686312",
     "exception": false,
     "start_time": "2021-06-12T21:28:13.665164",
     "status": "completed"
    },
    "tags": []
   },
   "source": [
    "# Reading Data"
   ]
  },
  {
   "cell_type": "code",
   "execution_count": 3,
   "id": "round-outdoors",
   "metadata": {
    "execution": {
     "iopub.execute_input": "2021-06-12T21:28:13.734489Z",
     "iopub.status.busy": "2021-06-12T21:28:13.733550Z",
     "iopub.status.idle": "2021-06-12T21:28:21.031088Z",
     "shell.execute_reply": "2021-06-12T21:28:21.031574Z",
     "shell.execute_reply.started": "2021-06-12T21:18:51.444476Z"
    },
    "papermill": {
     "duration": 7.324036,
     "end_time": "2021-06-12T21:28:21.031789",
     "exception": false,
     "start_time": "2021-06-12T21:28:13.707753",
     "status": "completed"
    },
    "tags": []
   },
   "outputs": [],
   "source": [
    "train=pd.read_csv(\"../input/fashionmnist/fashion-mnist_train.csv\")\n",
    "test=pd.read_csv(\"../input/fashionmnist/fashion-mnist_test.csv\")"
   ]
  },
  {
   "cell_type": "code",
   "execution_count": 4,
   "id": "insured-packing",
   "metadata": {
    "execution": {
     "iopub.execute_input": "2021-06-12T21:28:21.078566Z",
     "iopub.status.busy": "2021-06-12T21:28:21.078009Z",
     "iopub.status.idle": "2021-06-12T21:28:21.111268Z",
     "shell.execute_reply": "2021-06-12T21:28:21.111732Z",
     "shell.execute_reply.started": "2021-06-12T21:18:58.009330Z"
    },
    "papermill": {
     "duration": 0.058487,
     "end_time": "2021-06-12T21:28:21.111897",
     "exception": false,
     "start_time": "2021-06-12T21:28:21.053410",
     "status": "completed"
    },
    "tags": []
   },
   "outputs": [
    {
     "data": {
      "text/html": [
       "<div>\n",
       "<style scoped>\n",
       "    .dataframe tbody tr th:only-of-type {\n",
       "        vertical-align: middle;\n",
       "    }\n",
       "\n",
       "    .dataframe tbody tr th {\n",
       "        vertical-align: top;\n",
       "    }\n",
       "\n",
       "    .dataframe thead th {\n",
       "        text-align: right;\n",
       "    }\n",
       "</style>\n",
       "<table border=\"1\" class=\"dataframe\">\n",
       "  <thead>\n",
       "    <tr style=\"text-align: right;\">\n",
       "      <th></th>\n",
       "      <th>label</th>\n",
       "      <th>pixel1</th>\n",
       "      <th>pixel2</th>\n",
       "      <th>pixel3</th>\n",
       "      <th>pixel4</th>\n",
       "      <th>pixel5</th>\n",
       "      <th>pixel6</th>\n",
       "      <th>pixel7</th>\n",
       "      <th>pixel8</th>\n",
       "      <th>pixel9</th>\n",
       "      <th>...</th>\n",
       "      <th>pixel775</th>\n",
       "      <th>pixel776</th>\n",
       "      <th>pixel777</th>\n",
       "      <th>pixel778</th>\n",
       "      <th>pixel779</th>\n",
       "      <th>pixel780</th>\n",
       "      <th>pixel781</th>\n",
       "      <th>pixel782</th>\n",
       "      <th>pixel783</th>\n",
       "      <th>pixel784</th>\n",
       "    </tr>\n",
       "  </thead>\n",
       "  <tbody>\n",
       "    <tr>\n",
       "      <th>0</th>\n",
       "      <td>2</td>\n",
       "      <td>0</td>\n",
       "      <td>0</td>\n",
       "      <td>0</td>\n",
       "      <td>0</td>\n",
       "      <td>0</td>\n",
       "      <td>0</td>\n",
       "      <td>0</td>\n",
       "      <td>0</td>\n",
       "      <td>0</td>\n",
       "      <td>...</td>\n",
       "      <td>0</td>\n",
       "      <td>0</td>\n",
       "      <td>0</td>\n",
       "      <td>0</td>\n",
       "      <td>0</td>\n",
       "      <td>0</td>\n",
       "      <td>0</td>\n",
       "      <td>0</td>\n",
       "      <td>0</td>\n",
       "      <td>0</td>\n",
       "    </tr>\n",
       "    <tr>\n",
       "      <th>1</th>\n",
       "      <td>9</td>\n",
       "      <td>0</td>\n",
       "      <td>0</td>\n",
       "      <td>0</td>\n",
       "      <td>0</td>\n",
       "      <td>0</td>\n",
       "      <td>0</td>\n",
       "      <td>0</td>\n",
       "      <td>0</td>\n",
       "      <td>0</td>\n",
       "      <td>...</td>\n",
       "      <td>0</td>\n",
       "      <td>0</td>\n",
       "      <td>0</td>\n",
       "      <td>0</td>\n",
       "      <td>0</td>\n",
       "      <td>0</td>\n",
       "      <td>0</td>\n",
       "      <td>0</td>\n",
       "      <td>0</td>\n",
       "      <td>0</td>\n",
       "    </tr>\n",
       "    <tr>\n",
       "      <th>2</th>\n",
       "      <td>6</td>\n",
       "      <td>0</td>\n",
       "      <td>0</td>\n",
       "      <td>0</td>\n",
       "      <td>0</td>\n",
       "      <td>0</td>\n",
       "      <td>0</td>\n",
       "      <td>0</td>\n",
       "      <td>5</td>\n",
       "      <td>0</td>\n",
       "      <td>...</td>\n",
       "      <td>0</td>\n",
       "      <td>0</td>\n",
       "      <td>0</td>\n",
       "      <td>30</td>\n",
       "      <td>43</td>\n",
       "      <td>0</td>\n",
       "      <td>0</td>\n",
       "      <td>0</td>\n",
       "      <td>0</td>\n",
       "      <td>0</td>\n",
       "    </tr>\n",
       "    <tr>\n",
       "      <th>3</th>\n",
       "      <td>0</td>\n",
       "      <td>0</td>\n",
       "      <td>0</td>\n",
       "      <td>0</td>\n",
       "      <td>1</td>\n",
       "      <td>2</td>\n",
       "      <td>0</td>\n",
       "      <td>0</td>\n",
       "      <td>0</td>\n",
       "      <td>0</td>\n",
       "      <td>...</td>\n",
       "      <td>3</td>\n",
       "      <td>0</td>\n",
       "      <td>0</td>\n",
       "      <td>0</td>\n",
       "      <td>0</td>\n",
       "      <td>1</td>\n",
       "      <td>0</td>\n",
       "      <td>0</td>\n",
       "      <td>0</td>\n",
       "      <td>0</td>\n",
       "    </tr>\n",
       "    <tr>\n",
       "      <th>4</th>\n",
       "      <td>3</td>\n",
       "      <td>0</td>\n",
       "      <td>0</td>\n",
       "      <td>0</td>\n",
       "      <td>0</td>\n",
       "      <td>0</td>\n",
       "      <td>0</td>\n",
       "      <td>0</td>\n",
       "      <td>0</td>\n",
       "      <td>0</td>\n",
       "      <td>...</td>\n",
       "      <td>0</td>\n",
       "      <td>0</td>\n",
       "      <td>0</td>\n",
       "      <td>0</td>\n",
       "      <td>0</td>\n",
       "      <td>0</td>\n",
       "      <td>0</td>\n",
       "      <td>0</td>\n",
       "      <td>0</td>\n",
       "      <td>0</td>\n",
       "    </tr>\n",
       "  </tbody>\n",
       "</table>\n",
       "<p>5 rows × 785 columns</p>\n",
       "</div>"
      ],
      "text/plain": [
       "   label  pixel1  pixel2  pixel3  pixel4  pixel5  pixel6  pixel7  pixel8  \\\n",
       "0      2       0       0       0       0       0       0       0       0   \n",
       "1      9       0       0       0       0       0       0       0       0   \n",
       "2      6       0       0       0       0       0       0       0       5   \n",
       "3      0       0       0       0       1       2       0       0       0   \n",
       "4      3       0       0       0       0       0       0       0       0   \n",
       "\n",
       "   pixel9  ...  pixel775  pixel776  pixel777  pixel778  pixel779  pixel780  \\\n",
       "0       0  ...         0         0         0         0         0         0   \n",
       "1       0  ...         0         0         0         0         0         0   \n",
       "2       0  ...         0         0         0        30        43         0   \n",
       "3       0  ...         3         0         0         0         0         1   \n",
       "4       0  ...         0         0         0         0         0         0   \n",
       "\n",
       "   pixel781  pixel782  pixel783  pixel784  \n",
       "0         0         0         0         0  \n",
       "1         0         0         0         0  \n",
       "2         0         0         0         0  \n",
       "3         0         0         0         0  \n",
       "4         0         0         0         0  \n",
       "\n",
       "[5 rows x 785 columns]"
      ]
     },
     "execution_count": 4,
     "metadata": {},
     "output_type": "execute_result"
    }
   ],
   "source": [
    "train.head()"
   ]
  },
  {
   "cell_type": "code",
   "execution_count": 5,
   "id": "beautiful-packing",
   "metadata": {
    "execution": {
     "iopub.execute_input": "2021-06-12T21:28:21.171229Z",
     "iopub.status.busy": "2021-06-12T21:28:21.170586Z",
     "iopub.status.idle": "2021-06-12T21:28:21.177114Z",
     "shell.execute_reply": "2021-06-12T21:28:21.176616Z",
     "shell.execute_reply.started": "2021-06-12T21:18:58.034201Z"
    },
    "papermill": {
     "duration": 0.043989,
     "end_time": "2021-06-12T21:28:21.177242",
     "exception": false,
     "start_time": "2021-06-12T21:28:21.133253",
     "status": "completed"
    },
    "tags": []
   },
   "outputs": [
    {
     "data": {
      "text/html": [
       "<div>\n",
       "<style scoped>\n",
       "    .dataframe tbody tr th:only-of-type {\n",
       "        vertical-align: middle;\n",
       "    }\n",
       "\n",
       "    .dataframe tbody tr th {\n",
       "        vertical-align: top;\n",
       "    }\n",
       "\n",
       "    .dataframe thead th {\n",
       "        text-align: right;\n",
       "    }\n",
       "</style>\n",
       "<table border=\"1\" class=\"dataframe\">\n",
       "  <thead>\n",
       "    <tr style=\"text-align: right;\">\n",
       "      <th></th>\n",
       "      <th>label</th>\n",
       "      <th>pixel1</th>\n",
       "      <th>pixel2</th>\n",
       "      <th>pixel3</th>\n",
       "      <th>pixel4</th>\n",
       "      <th>pixel5</th>\n",
       "      <th>pixel6</th>\n",
       "      <th>pixel7</th>\n",
       "      <th>pixel8</th>\n",
       "      <th>pixel9</th>\n",
       "      <th>...</th>\n",
       "      <th>pixel775</th>\n",
       "      <th>pixel776</th>\n",
       "      <th>pixel777</th>\n",
       "      <th>pixel778</th>\n",
       "      <th>pixel779</th>\n",
       "      <th>pixel780</th>\n",
       "      <th>pixel781</th>\n",
       "      <th>pixel782</th>\n",
       "      <th>pixel783</th>\n",
       "      <th>pixel784</th>\n",
       "    </tr>\n",
       "  </thead>\n",
       "  <tbody>\n",
       "    <tr>\n",
       "      <th>0</th>\n",
       "      <td>0</td>\n",
       "      <td>0</td>\n",
       "      <td>0</td>\n",
       "      <td>0</td>\n",
       "      <td>0</td>\n",
       "      <td>0</td>\n",
       "      <td>0</td>\n",
       "      <td>0</td>\n",
       "      <td>9</td>\n",
       "      <td>8</td>\n",
       "      <td>...</td>\n",
       "      <td>103</td>\n",
       "      <td>87</td>\n",
       "      <td>56</td>\n",
       "      <td>0</td>\n",
       "      <td>0</td>\n",
       "      <td>0</td>\n",
       "      <td>0</td>\n",
       "      <td>0</td>\n",
       "      <td>0</td>\n",
       "      <td>0</td>\n",
       "    </tr>\n",
       "    <tr>\n",
       "      <th>1</th>\n",
       "      <td>1</td>\n",
       "      <td>0</td>\n",
       "      <td>0</td>\n",
       "      <td>0</td>\n",
       "      <td>0</td>\n",
       "      <td>0</td>\n",
       "      <td>0</td>\n",
       "      <td>0</td>\n",
       "      <td>0</td>\n",
       "      <td>0</td>\n",
       "      <td>...</td>\n",
       "      <td>34</td>\n",
       "      <td>0</td>\n",
       "      <td>0</td>\n",
       "      <td>0</td>\n",
       "      <td>0</td>\n",
       "      <td>0</td>\n",
       "      <td>0</td>\n",
       "      <td>0</td>\n",
       "      <td>0</td>\n",
       "      <td>0</td>\n",
       "    </tr>\n",
       "    <tr>\n",
       "      <th>2</th>\n",
       "      <td>2</td>\n",
       "      <td>0</td>\n",
       "      <td>0</td>\n",
       "      <td>0</td>\n",
       "      <td>0</td>\n",
       "      <td>0</td>\n",
       "      <td>0</td>\n",
       "      <td>14</td>\n",
       "      <td>53</td>\n",
       "      <td>99</td>\n",
       "      <td>...</td>\n",
       "      <td>0</td>\n",
       "      <td>0</td>\n",
       "      <td>0</td>\n",
       "      <td>0</td>\n",
       "      <td>63</td>\n",
       "      <td>53</td>\n",
       "      <td>31</td>\n",
       "      <td>0</td>\n",
       "      <td>0</td>\n",
       "      <td>0</td>\n",
       "    </tr>\n",
       "    <tr>\n",
       "      <th>3</th>\n",
       "      <td>2</td>\n",
       "      <td>0</td>\n",
       "      <td>0</td>\n",
       "      <td>0</td>\n",
       "      <td>0</td>\n",
       "      <td>0</td>\n",
       "      <td>0</td>\n",
       "      <td>0</td>\n",
       "      <td>0</td>\n",
       "      <td>0</td>\n",
       "      <td>...</td>\n",
       "      <td>137</td>\n",
       "      <td>126</td>\n",
       "      <td>140</td>\n",
       "      <td>0</td>\n",
       "      <td>133</td>\n",
       "      <td>224</td>\n",
       "      <td>222</td>\n",
       "      <td>56</td>\n",
       "      <td>0</td>\n",
       "      <td>0</td>\n",
       "    </tr>\n",
       "    <tr>\n",
       "      <th>4</th>\n",
       "      <td>3</td>\n",
       "      <td>0</td>\n",
       "      <td>0</td>\n",
       "      <td>0</td>\n",
       "      <td>0</td>\n",
       "      <td>0</td>\n",
       "      <td>0</td>\n",
       "      <td>0</td>\n",
       "      <td>0</td>\n",
       "      <td>0</td>\n",
       "      <td>...</td>\n",
       "      <td>0</td>\n",
       "      <td>0</td>\n",
       "      <td>0</td>\n",
       "      <td>0</td>\n",
       "      <td>0</td>\n",
       "      <td>0</td>\n",
       "      <td>0</td>\n",
       "      <td>0</td>\n",
       "      <td>0</td>\n",
       "      <td>0</td>\n",
       "    </tr>\n",
       "  </tbody>\n",
       "</table>\n",
       "<p>5 rows × 785 columns</p>\n",
       "</div>"
      ],
      "text/plain": [
       "   label  pixel1  pixel2  pixel3  pixel4  pixel5  pixel6  pixel7  pixel8  \\\n",
       "0      0       0       0       0       0       0       0       0       9   \n",
       "1      1       0       0       0       0       0       0       0       0   \n",
       "2      2       0       0       0       0       0       0      14      53   \n",
       "3      2       0       0       0       0       0       0       0       0   \n",
       "4      3       0       0       0       0       0       0       0       0   \n",
       "\n",
       "   pixel9  ...  pixel775  pixel776  pixel777  pixel778  pixel779  pixel780  \\\n",
       "0       8  ...       103        87        56         0         0         0   \n",
       "1       0  ...        34         0         0         0         0         0   \n",
       "2      99  ...         0         0         0         0        63        53   \n",
       "3       0  ...       137       126       140         0       133       224   \n",
       "4       0  ...         0         0         0         0         0         0   \n",
       "\n",
       "   pixel781  pixel782  pixel783  pixel784  \n",
       "0         0         0         0         0  \n",
       "1         0         0         0         0  \n",
       "2        31         0         0         0  \n",
       "3       222        56         0         0  \n",
       "4         0         0         0         0  \n",
       "\n",
       "[5 rows x 785 columns]"
      ]
     },
     "execution_count": 5,
     "metadata": {},
     "output_type": "execute_result"
    }
   ],
   "source": [
    "test.head()"
   ]
  },
  {
   "cell_type": "code",
   "execution_count": 6,
   "id": "protected-relative",
   "metadata": {
    "execution": {
     "iopub.execute_input": "2021-06-12T21:28:21.228716Z",
     "iopub.status.busy": "2021-06-12T21:28:21.228116Z",
     "iopub.status.idle": "2021-06-12T21:28:21.229784Z",
     "shell.execute_reply": "2021-06-12T21:28:21.230271Z",
     "shell.execute_reply.started": "2021-06-12T21:18:58.061361Z"
    },
    "papermill": {
     "duration": 0.03035,
     "end_time": "2021-06-12T21:28:21.230416",
     "exception": false,
     "start_time": "2021-06-12T21:28:21.200066",
     "status": "completed"
    },
    "tags": []
   },
   "outputs": [],
   "source": [
    "Y_test=test['label']"
   ]
  },
  {
   "cell_type": "code",
   "execution_count": 7,
   "id": "driving-channel",
   "metadata": {
    "execution": {
     "iopub.execute_input": "2021-06-12T21:28:21.278285Z",
     "iopub.status.busy": "2021-06-12T21:28:21.277681Z",
     "iopub.status.idle": "2021-06-12T21:28:21.282077Z",
     "shell.execute_reply": "2021-06-12T21:28:21.282605Z",
     "shell.execute_reply.started": "2021-06-12T21:18:58.073677Z"
    },
    "papermill": {
     "duration": 0.029343,
     "end_time": "2021-06-12T21:28:21.282769",
     "exception": false,
     "start_time": "2021-06-12T21:28:21.253426",
     "status": "completed"
    },
    "tags": []
   },
   "outputs": [
    {
     "data": {
      "text/plain": [
       "((60000, 785), (10000, 785))"
      ]
     },
     "execution_count": 7,
     "metadata": {},
     "output_type": "execute_result"
    }
   ],
   "source": [
    "train.shape , test.shape"
   ]
  },
  {
   "cell_type": "code",
   "execution_count": 8,
   "id": "mental-apparatus",
   "metadata": {
    "execution": {
     "iopub.execute_input": "2021-06-12T21:28:21.330113Z",
     "iopub.status.busy": "2021-06-12T21:28:21.329486Z",
     "iopub.status.idle": "2021-06-12T21:28:21.520548Z",
     "shell.execute_reply": "2021-06-12T21:28:21.521132Z",
     "shell.execute_reply.started": "2021-06-12T21:18:58.092358Z"
    },
    "papermill": {
     "duration": 0.216456,
     "end_time": "2021-06-12T21:28:21.521290",
     "exception": false,
     "start_time": "2021-06-12T21:28:21.304834",
     "status": "completed"
    },
    "tags": []
   },
   "outputs": [
    {
     "name": "stderr",
     "output_type": "stream",
     "text": [
      "/opt/conda/lib/python3.7/site-packages/seaborn/_decorators.py:43: FutureWarning: Pass the following variable as a keyword arg: x. From version 0.12, the only valid positional argument will be `data`, and passing other arguments without an explicit keyword will result in an error or misinterpretation.\n",
      "  FutureWarning\n"
     ]
    },
    {
     "data": {
      "text/plain": [
       "<AxesSubplot:xlabel='label', ylabel='count'>"
      ]
     },
     "execution_count": 8,
     "metadata": {},
     "output_type": "execute_result"
    },
    {
     "data": {
      "image/png": "[encoded data removed]",
      "text/plain": [
       "<Figure size 432x288 with 1 Axes>"
      ]
     },
     "metadata": {
      "needs_background": "light"
     },
     "output_type": "display_data"
    }
   ],
   "source": [
    "sns.countplot(train['label'])"
   ]
  },
  {
   "cell_type": "markdown",
   "id": "cloudy-finland",
   "metadata": {
    "papermill": {
     "duration": 0.023929,
     "end_time": "2021-06-12T21:28:21.568520",
     "exception": false,
     "start_time": "2021-06-12T21:28:21.544591",
     "status": "completed"
    },
    "tags": []
   },
   "source": [
    " Checking Null Values"
   ]
  },
  {
   "cell_type": "code",
   "execution_count": 9,
   "id": "incoming-dollar",
   "metadata": {
    "execution": {
     "iopub.execute_input": "2021-06-12T21:28:21.619155Z",
     "iopub.status.busy": "2021-06-12T21:28:21.618590Z",
     "iopub.status.idle": "2021-06-12T21:29:01.563878Z",
     "shell.execute_reply": "2021-06-12T21:29:01.564384Z",
     "shell.execute_reply.started": "2021-06-12T21:18:58.302215Z"
    },
    "papermill": {
     "duration": 39.972209,
     "end_time": "2021-06-12T21:29:01.564576",
     "exception": false,
     "start_time": "2021-06-12T21:28:21.592367",
     "status": "completed"
    },
    "tags": []
   },
   "outputs": [
    {
     "data": {
      "text/plain": [
       "<AxesSubplot:>"
      ]
     },
     "execution_count": 9,
     "metadata": {},
     "output_type": "execute_result"
    },
    {
     "data": {
      "image/png": "[encoded data removed]",
      "text/plain": [
       "<Figure size 432x288 with 2 Axes>"
      ]
     },
     "metadata": {
      "needs_background": "light"
     },
     "output_type": "display_data"
    }
   ],
   "source": [
    "sns.heatmap(train.isnull(),xticklabels=False,yticklabels=False,cmap='viridis')"
   ]
  },
  {
   "cell_type": "markdown",
   "id": "unable-trunk",
   "metadata": {
    "papermill": {
     "duration": 0.024736,
     "end_time": "2021-06-12T21:29:01.614593",
     "exception": false,
     "start_time": "2021-06-12T21:29:01.589857",
     "status": "completed"
    },
    "tags": []
   },
   "source": [
    "# Data Vizualisation"
   ]
  },
  {
   "cell_type": "code",
   "execution_count": 10,
   "id": "central-winter",
   "metadata": {
    "execution": {
     "iopub.execute_input": "2021-06-12T21:29:01.789240Z",
     "iopub.status.busy": "2021-06-12T21:29:01.788548Z",
     "iopub.status.idle": "2021-06-12T21:29:01.958081Z",
     "shell.execute_reply": "2021-06-12T21:29:01.957443Z",
     "shell.execute_reply.started": "2021-06-12T21:19:41.742782Z"
    },
    "papermill": {
     "duration": 0.318425,
     "end_time": "2021-06-12T21:29:01.958228",
     "exception": false,
     "start_time": "2021-06-12T21:29:01.639803",
     "status": "completed"
    },
    "tags": []
   },
   "outputs": [],
   "source": [
    "x= train.drop('label',axis=1).to_numpy()\n",
    "y=train['label']\n",
    "\n",
    "x=x/255"
   ]
  },
  {
   "cell_type": "code",
   "execution_count": 11,
   "id": "hungry-tribune",
   "metadata": {
    "execution": {
     "iopub.execute_input": "2021-06-12T21:29:02.057271Z",
     "iopub.status.busy": "2021-06-12T21:29:02.055908Z",
     "iopub.status.idle": "2021-06-12T21:29:02.134608Z",
     "shell.execute_reply": "2021-06-12T21:29:02.135102Z",
     "shell.execute_reply.started": "2021-06-12T21:19:42.035183Z"
    },
    "papermill": {
     "duration": 0.15144,
     "end_time": "2021-06-12T21:29:02.135268",
     "exception": false,
     "start_time": "2021-06-12T21:29:01.983828",
     "status": "completed"
    },
    "tags": []
   },
   "outputs": [
    {
     "data": {
      "image/png": "[encoded data removed]",
      "text/plain": [
       "<Figure size 432x288 with 1 Axes>"
      ]
     },
     "metadata": {
      "needs_background": "light"
     },
     "output_type": "display_data"
    }
   ],
   "source": [
    "plt.imshow(x[600].reshape(28,28),cmap=matplotlib.cm.binary)\n",
    "plt.show()"
   ]
  },
  {
   "cell_type": "code",
   "execution_count": 12,
   "id": "polar-triple",
   "metadata": {
    "execution": {
     "iopub.execute_input": "2021-06-12T21:29:02.192060Z",
     "iopub.status.busy": "2021-06-12T21:29:02.191376Z",
     "iopub.status.idle": "2021-06-12T21:29:02.195298Z",
     "shell.execute_reply": "2021-06-12T21:29:02.194685Z",
     "shell.execute_reply.started": "2021-06-12T21:19:42.187691Z"
    },
    "papermill": {
     "duration": 0.034453,
     "end_time": "2021-06-12T21:29:02.195424",
     "exception": false,
     "start_time": "2021-06-12T21:29:02.160971",
     "status": "completed"
    },
    "tags": []
   },
   "outputs": [
    {
     "data": {
      "text/plain": [
       "0"
      ]
     },
     "execution_count": 12,
     "metadata": {},
     "output_type": "execute_result"
    }
   ],
   "source": [
    "y[600]"
   ]
  },
  {
   "cell_type": "code",
   "execution_count": 13,
   "id": "detected-reading",
   "metadata": {
    "execution": {
     "iopub.execute_input": "2021-06-12T21:29:02.427825Z",
     "iopub.status.busy": "2021-06-12T21:29:02.420163Z",
     "iopub.status.idle": "2021-06-12T21:29:03.574220Z",
     "shell.execute_reply": "2021-06-12T21:29:03.573168Z",
     "shell.execute_reply.started": "2021-06-12T21:19:42.195362Z"
    },
    "papermill": {
     "duration": 1.352461,
     "end_time": "2021-06-12T21:29:03.574365",
     "exception": false,
     "start_time": "2021-06-12T21:29:02.221904",
     "status": "completed"
    },
    "tags": []
   },
   "outputs": [
    {
     "data": {
      "image/png": "[encoded data removed]",
      "text/plain": [
       "<Figure size 1152x1152 with 25 Axes>"
      ]
     },
     "metadata": {
      "needs_background": "light"
     },
     "output_type": "display_data"
    }
   ],
   "source": [
    "plt.figure(figsize=(16,16))\n",
    "j=1\n",
    "for i in np.random.randint(0,1000,25):\n",
    "    plt.subplot(5,5,j)\n",
    "    j+=1\n",
    "    image=plt.imshow(x[i].reshape(28,28),cmap=matplotlib.cm.binary)\n",
    "    original=y[i]\n",
    "    plt.axis('off')\n",
    "    plt.title('{} / {} '.format(class_labels[y[i]],y[y[i]]))"
   ]
  },
  {
   "cell_type": "markdown",
   "id": "printable-avatar",
   "metadata": {
    "papermill": {
     "duration": 0.028175,
     "end_time": "2021-06-12T21:29:03.631192",
     "exception": false,
     "start_time": "2021-06-12T21:29:03.603017",
     "status": "completed"
    },
    "tags": []
   },
   "source": [
    "# Building Artificial Neural Network"
   ]
  },
  {
   "cell_type": "code",
   "execution_count": 14,
   "id": "moving-graphic",
   "metadata": {
    "execution": {
     "iopub.execute_input": "2021-06-12T21:29:03.692793Z",
     "iopub.status.busy": "2021-06-12T21:29:03.691687Z",
     "iopub.status.idle": "2021-06-12T21:29:03.694492Z",
     "shell.execute_reply": "2021-06-12T21:29:03.693904Z",
     "shell.execute_reply.started": "2021-06-12T21:19:43.568135Z"
    },
    "papermill": {
     "duration": 0.034659,
     "end_time": "2021-06-12T21:29:03.694624",
     "exception": false,
     "start_time": "2021-06-12T21:29:03.659965",
     "status": "completed"
    },
    "tags": []
   },
   "outputs": [],
   "source": [
    "from keras.models import Sequential \n",
    "from keras.layers import Flatten,Dense"
   ]
  },
  {
   "cell_type": "code",
   "execution_count": 15,
   "id": "spatial-samuel",
   "metadata": {
    "execution": {
     "iopub.execute_input": "2021-06-12T21:29:03.870183Z",
     "iopub.status.busy": "2021-06-12T21:29:03.869505Z",
     "iopub.status.idle": "2021-06-12T21:29:03.873408Z",
     "shell.execute_reply": "2021-06-12T21:29:03.873831Z",
     "shell.execute_reply.started": "2021-06-12T21:19:43.574235Z"
    },
    "papermill": {
     "duration": 0.150552,
     "end_time": "2021-06-12T21:29:03.873995",
     "exception": false,
     "start_time": "2021-06-12T21:29:03.723443",
     "status": "completed"
    },
    "tags": []
   },
   "outputs": [],
   "source": [
    "train_X=train.drop('label',axis=1)\n",
    "train_Y=train['label']"
   ]
  },
  {
   "cell_type": "code",
   "execution_count": 16,
   "id": "compact-burns",
   "metadata": {
    "execution": {
     "iopub.execute_input": "2021-06-12T21:29:03.933375Z",
     "iopub.status.busy": "2021-06-12T21:29:03.932776Z",
     "iopub.status.idle": "2021-06-12T21:29:04.540022Z",
     "shell.execute_reply": "2021-06-12T21:29:04.539338Z",
     "shell.execute_reply.started": "2021-06-12T21:19:43.717807Z"
    },
    "papermill": {
     "duration": 0.639189,
     "end_time": "2021-06-12T21:29:04.540171",
     "exception": false,
     "start_time": "2021-06-12T21:29:03.900982",
     "status": "completed"
    },
    "tags": []
   },
   "outputs": [],
   "source": [
    "from sklearn.model_selection import train_test_split\n",
    "train_x,test_x,train_y,test_y = train_test_split(train_X,train_Y,test_size=0.30,random_state=42)"
   ]
  },
  {
   "cell_type": "code",
   "execution_count": 17,
   "id": "oriented-excellence",
   "metadata": {
    "execution": {
     "iopub.execute_input": "2021-06-12T21:29:04.603869Z",
     "iopub.status.busy": "2021-06-12T21:29:04.603243Z",
     "iopub.status.idle": "2021-06-12T21:29:53.869201Z",
     "shell.execute_reply": "2021-06-12T21:29:53.868510Z",
     "shell.execute_reply.started": "2021-06-12T21:19:44.482477Z"
    },
    "papermill": {
     "duration": 49.300471,
     "end_time": "2021-06-12T21:29:53.869352",
     "exception": false,
     "start_time": "2021-06-12T21:29:04.568881",
     "status": "completed"
    },
    "tags": []
   },
   "outputs": [
    {
     "name": "stdout",
     "output_type": "stream",
     "text": [
      "Epoch 1/60\n",
      "420/420 [==============================] - 1s 2ms/step - loss: 13.3518 - accuracy: 0.5685\n",
      "Epoch 2/60\n",
      "420/420 [==============================] - 1s 2ms/step - loss: 0.9119 - accuracy: 0.7015\n",
      "Epoch 3/60\n",
      "420/420 [==============================] - 1s 2ms/step - loss: 0.7552 - accuracy: 0.7386\n",
      "Epoch 4/60\n",
      "420/420 [==============================] - 1s 2ms/step - loss: 0.6786 - accuracy: 0.7596\n",
      "Epoch 5/60\n",
      "420/420 [==============================] - 1s 2ms/step - loss: 0.6120 - accuracy: 0.7840\n",
      "Epoch 6/60\n",
      "420/420 [==============================] - 1s 2ms/step - loss: 0.5708 - accuracy: 0.7980\n",
      "Epoch 7/60\n",
      "420/420 [==============================] - 1s 2ms/step - loss: 0.5411 - accuracy: 0.8096\n",
      "Epoch 8/60\n",
      "420/420 [==============================] - 1s 2ms/step - loss: 0.5487 - accuracy: 0.8088\n",
      "Epoch 9/60\n",
      "420/420 [==============================] - 1s 2ms/step - loss: 0.5151 - accuracy: 0.8185\n",
      "Epoch 10/60\n",
      "420/420 [==============================] - 1s 2ms/step - loss: 0.5213 - accuracy: 0.8189\n",
      "Epoch 11/60\n",
      "420/420 [==============================] - 1s 2ms/step - loss: 0.4982 - accuracy: 0.8254\n",
      "Epoch 12/60\n",
      "420/420 [==============================] - 1s 2ms/step - loss: 0.4900 - accuracy: 0.8265\n",
      "Epoch 13/60\n",
      "420/420 [==============================] - 1s 2ms/step - loss: 0.4909 - accuracy: 0.8308\n",
      "Epoch 14/60\n",
      "420/420 [==============================] - 1s 2ms/step - loss: 0.4817 - accuracy: 0.8359\n",
      "Epoch 15/60\n",
      "420/420 [==============================] - 1s 2ms/step - loss: 0.4489 - accuracy: 0.8426\n",
      "Epoch 16/60\n",
      "420/420 [==============================] - 1s 2ms/step - loss: 0.4592 - accuracy: 0.8382\n",
      "Epoch 17/60\n",
      "420/420 [==============================] - 1s 2ms/step - loss: 0.4631 - accuracy: 0.8368\n",
      "Epoch 18/60\n",
      "420/420 [==============================] - 1s 2ms/step - loss: 0.4309 - accuracy: 0.8468\n",
      "Epoch 19/60\n",
      "420/420 [==============================] - 1s 2ms/step - loss: 0.4541 - accuracy: 0.8399\n",
      "Epoch 20/60\n",
      "420/420 [==============================] - 1s 2ms/step - loss: 0.4406 - accuracy: 0.8449\n",
      "Epoch 21/60\n",
      "420/420 [==============================] - 1s 2ms/step - loss: 0.4198 - accuracy: 0.8494\n",
      "Epoch 22/60\n",
      "420/420 [==============================] - 1s 2ms/step - loss: 0.4152 - accuracy: 0.8526\n",
      "Epoch 23/60\n",
      "420/420 [==============================] - 1s 2ms/step - loss: 0.4163 - accuracy: 0.8530\n",
      "Epoch 24/60\n",
      "420/420 [==============================] - 1s 2ms/step - loss: 0.3992 - accuracy: 0.8577\n",
      "Epoch 25/60\n",
      "420/420 [==============================] - 1s 2ms/step - loss: 0.3910 - accuracy: 0.8623\n",
      "Epoch 26/60\n",
      "420/420 [==============================] - 1s 2ms/step - loss: 0.3961 - accuracy: 0.8570\n",
      "Epoch 27/60\n",
      "420/420 [==============================] - 1s 2ms/step - loss: 0.3809 - accuracy: 0.8634\n",
      "Epoch 28/60\n",
      "420/420 [==============================] - 1s 2ms/step - loss: 0.4001 - accuracy: 0.8562\n",
      "Epoch 29/60\n",
      "420/420 [==============================] - 1s 2ms/step - loss: 0.3862 - accuracy: 0.8600\n",
      "Epoch 30/60\n",
      "420/420 [==============================] - 1s 2ms/step - loss: 0.3796 - accuracy: 0.8618\n",
      "Epoch 31/60\n",
      "420/420 [==============================] - 1s 2ms/step - loss: 0.3740 - accuracy: 0.8633\n",
      "Epoch 32/60\n",
      "420/420 [==============================] - 1s 2ms/step - loss: 0.3796 - accuracy: 0.8624\n",
      "Epoch 33/60\n",
      "420/420 [==============================] - 1s 2ms/step - loss: 0.3803 - accuracy: 0.8606\n",
      "Epoch 34/60\n",
      "420/420 [==============================] - 1s 2ms/step - loss: 0.3733 - accuracy: 0.8650\n",
      "Epoch 35/60\n",
      "420/420 [==============================] - 1s 2ms/step - loss: 0.3480 - accuracy: 0.8714\n",
      "Epoch 36/60\n",
      "420/420 [==============================] - 1s 2ms/step - loss: 0.3640 - accuracy: 0.8658\n",
      "Epoch 37/60\n",
      "420/420 [==============================] - 1s 2ms/step - loss: 0.3514 - accuracy: 0.8730\n",
      "Epoch 38/60\n",
      "420/420 [==============================] - 1s 2ms/step - loss: 0.3555 - accuracy: 0.8675\n",
      "Epoch 39/60\n",
      "420/420 [==============================] - 1s 2ms/step - loss: 0.3473 - accuracy: 0.8701\n",
      "Epoch 40/60\n",
      "420/420 [==============================] - 1s 2ms/step - loss: 0.3448 - accuracy: 0.8739\n",
      "Epoch 41/60\n",
      "420/420 [==============================] - 1s 2ms/step - loss: 0.3585 - accuracy: 0.8667\n",
      "Epoch 42/60\n",
      "420/420 [==============================] - 1s 2ms/step - loss: 0.3480 - accuracy: 0.8729\n",
      "Epoch 43/60\n",
      "420/420 [==============================] - 1s 2ms/step - loss: 0.3411 - accuracy: 0.8751\n",
      "Epoch 44/60\n",
      "420/420 [==============================] - 1s 2ms/step - loss: 0.3391 - accuracy: 0.8738\n",
      "Epoch 45/60\n",
      "420/420 [==============================] - 1s 2ms/step - loss: 0.3331 - accuracy: 0.8758\n",
      "Epoch 46/60\n",
      "420/420 [==============================] - 1s 2ms/step - loss: 0.3285 - accuracy: 0.8768\n",
      "Epoch 47/60\n",
      "420/420 [==============================] - 1s 2ms/step - loss: 0.3339 - accuracy: 0.8777\n",
      "Epoch 48/60\n",
      "420/420 [==============================] - 1s 2ms/step - loss: 0.3174 - accuracy: 0.8825\n",
      "Epoch 49/60\n",
      "420/420 [==============================] - 1s 2ms/step - loss: 0.3375 - accuracy: 0.8757\n",
      "Epoch 50/60\n",
      "420/420 [==============================] - 1s 2ms/step - loss: 0.3295 - accuracy: 0.8810\n",
      "Epoch 51/60\n",
      "420/420 [==============================] - 1s 2ms/step - loss: 0.3216 - accuracy: 0.8827\n",
      "Epoch 52/60\n",
      "420/420 [==============================] - 1s 2ms/step - loss: 0.3176 - accuracy: 0.8817\n",
      "Epoch 53/60\n",
      "420/420 [==============================] - 1s 2ms/step - loss: 0.3278 - accuracy: 0.8784\n",
      "Epoch 54/60\n",
      "420/420 [==============================] - 1s 2ms/step - loss: 0.3087 - accuracy: 0.8837\n",
      "Epoch 55/60\n",
      "420/420 [==============================] - 1s 2ms/step - loss: 0.3176 - accuracy: 0.8827\n",
      "Epoch 56/60\n",
      "420/420 [==============================] - 1s 2ms/step - loss: 0.3161 - accuracy: 0.8819\n",
      "Epoch 57/60\n",
      "420/420 [==============================] - 1s 2ms/step - loss: 0.3063 - accuracy: 0.8844\n",
      "Epoch 58/60\n",
      "420/420 [==============================] - 1s 2ms/step - loss: 0.3108 - accuracy: 0.8859\n",
      "Epoch 59/60\n",
      "420/420 [==============================] - 1s 2ms/step - loss: 0.3184 - accuracy: 0.8816\n",
      "Epoch 60/60\n",
      "420/420 [==============================] - 1s 2ms/step - loss: 0.3115 - accuracy: 0.8847\n"
     ]
    },
    {
     "data": {
      "text/plain": [
       "<tensorflow.python.keras.callbacks.History at 0x7f10246adcd0>"
      ]
     },
     "execution_count": 17,
     "metadata": {},
     "output_type": "execute_result"
    }
   ],
   "source": [
    "model=Sequential()\n",
    "model.add(Flatten(input_shape=(28,28)))\n",
    "model.add(Dense(units=50,activation='relu'))\n",
    "model.add(Dense(units=60,activation='relu'))\n",
    "model.add(Dense(units=10,activation='softmax'))\n",
    "\n",
    "model.compile(optimizer='adam',loss='sparse_categorical_crossentropy',metrics=['accuracy'])\n",
    "model.fit(train_x,train_y,batch_size=100,epochs=60)"
   ]
  },
  {
   "cell_type": "markdown",
   "id": "stable-bangkok",
   "metadata": {
    "papermill": {
     "duration": 0.328569,
     "end_time": "2021-06-12T21:29:54.531761",
     "exception": false,
     "start_time": "2021-06-12T21:29:54.203192",
     "status": "completed"
    },
    "tags": []
   },
   "source": [
    "# Evaluation And Prediction"
   ]
  },
  {
   "cell_type": "code",
   "execution_count": 18,
   "id": "possible-grenada",
   "metadata": {
    "execution": {
     "iopub.execute_input": "2021-06-12T21:29:55.190748Z",
     "iopub.status.busy": "2021-06-12T21:29:55.189789Z",
     "iopub.status.idle": "2021-06-12T21:29:56.135688Z",
     "shell.execute_reply": "2021-06-12T21:29:56.134738Z",
     "shell.execute_reply.started": "2021-06-12T21:20:56.928191Z"
    },
    "papermill": {
     "duration": 1.28027,
     "end_time": "2021-06-12T21:29:56.135856",
     "exception": false,
     "start_time": "2021-06-12T21:29:54.855586",
     "status": "completed"
    },
    "tags": []
   },
   "outputs": [
    {
     "name": "stdout",
     "output_type": "stream",
     "text": [
      "563/563 [==============================] - 1s 1ms/step - loss: 0.4580 - accuracy: 0.8579\n"
     ]
    },
    {
     "data": {
      "text/plain": [
       "[0.45803314447402954, 0.8578888773918152]"
      ]
     },
     "execution_count": 18,
     "metadata": {},
     "output_type": "execute_result"
    }
   ],
   "source": [
    "model.evaluate(test_x,test_y)"
   ]
  },
  {
   "cell_type": "code",
   "execution_count": 19,
   "id": "moderate-pavilion",
   "metadata": {
    "execution": {
     "iopub.execute_input": "2021-06-12T21:29:56.816297Z",
     "iopub.status.busy": "2021-06-12T21:29:56.815620Z",
     "iopub.status.idle": "2021-06-12T21:29:57.632798Z",
     "shell.execute_reply": "2021-06-12T21:29:57.632225Z",
     "shell.execute_reply.started": "2021-06-12T21:20:58.140215Z"
    },
    "papermill": {
     "duration": 1.153454,
     "end_time": "2021-06-12T21:29:57.632955",
     "exception": false,
     "start_time": "2021-06-12T21:29:56.479501",
     "status": "completed"
    },
    "tags": []
   },
   "outputs": [
    {
     "data": {
      "text/html": [
       "<div>\n",
       "<style scoped>\n",
       "    .dataframe tbody tr th:only-of-type {\n",
       "        vertical-align: middle;\n",
       "    }\n",
       "\n",
       "    .dataframe tbody tr th {\n",
       "        vertical-align: top;\n",
       "    }\n",
       "\n",
       "    .dataframe thead th {\n",
       "        text-align: right;\n",
       "    }\n",
       "</style>\n",
       "<table border=\"1\" class=\"dataframe\">\n",
       "  <thead>\n",
       "    <tr style=\"text-align: right;\">\n",
       "      <th></th>\n",
       "      <th>label</th>\n",
       "      <th>pixel1</th>\n",
       "      <th>pixel2</th>\n",
       "      <th>pixel3</th>\n",
       "      <th>pixel4</th>\n",
       "      <th>pixel5</th>\n",
       "      <th>pixel6</th>\n",
       "      <th>pixel7</th>\n",
       "      <th>pixel8</th>\n",
       "      <th>pixel9</th>\n",
       "      <th>...</th>\n",
       "      <th>pixel775</th>\n",
       "      <th>pixel776</th>\n",
       "      <th>pixel777</th>\n",
       "      <th>pixel778</th>\n",
       "      <th>pixel779</th>\n",
       "      <th>pixel780</th>\n",
       "      <th>pixel781</th>\n",
       "      <th>pixel782</th>\n",
       "      <th>pixel783</th>\n",
       "      <th>pixel784</th>\n",
       "    </tr>\n",
       "  </thead>\n",
       "  <tbody>\n",
       "    <tr>\n",
       "      <th>0</th>\n",
       "      <td>0</td>\n",
       "      <td>0</td>\n",
       "      <td>0</td>\n",
       "      <td>0</td>\n",
       "      <td>0</td>\n",
       "      <td>0</td>\n",
       "      <td>0</td>\n",
       "      <td>0</td>\n",
       "      <td>9</td>\n",
       "      <td>8</td>\n",
       "      <td>...</td>\n",
       "      <td>103</td>\n",
       "      <td>87</td>\n",
       "      <td>56</td>\n",
       "      <td>0</td>\n",
       "      <td>0</td>\n",
       "      <td>0</td>\n",
       "      <td>0</td>\n",
       "      <td>0</td>\n",
       "      <td>0</td>\n",
       "      <td>0</td>\n",
       "    </tr>\n",
       "    <tr>\n",
       "      <th>1</th>\n",
       "      <td>1</td>\n",
       "      <td>0</td>\n",
       "      <td>0</td>\n",
       "      <td>0</td>\n",
       "      <td>0</td>\n",
       "      <td>0</td>\n",
       "      <td>0</td>\n",
       "      <td>0</td>\n",
       "      <td>0</td>\n",
       "      <td>0</td>\n",
       "      <td>...</td>\n",
       "      <td>34</td>\n",
       "      <td>0</td>\n",
       "      <td>0</td>\n",
       "      <td>0</td>\n",
       "      <td>0</td>\n",
       "      <td>0</td>\n",
       "      <td>0</td>\n",
       "      <td>0</td>\n",
       "      <td>0</td>\n",
       "      <td>0</td>\n",
       "    </tr>\n",
       "    <tr>\n",
       "      <th>2</th>\n",
       "      <td>2</td>\n",
       "      <td>0</td>\n",
       "      <td>0</td>\n",
       "      <td>0</td>\n",
       "      <td>0</td>\n",
       "      <td>0</td>\n",
       "      <td>0</td>\n",
       "      <td>14</td>\n",
       "      <td>53</td>\n",
       "      <td>99</td>\n",
       "      <td>...</td>\n",
       "      <td>0</td>\n",
       "      <td>0</td>\n",
       "      <td>0</td>\n",
       "      <td>0</td>\n",
       "      <td>63</td>\n",
       "      <td>53</td>\n",
       "      <td>31</td>\n",
       "      <td>0</td>\n",
       "      <td>0</td>\n",
       "      <td>0</td>\n",
       "    </tr>\n",
       "    <tr>\n",
       "      <th>3</th>\n",
       "      <td>2</td>\n",
       "      <td>0</td>\n",
       "      <td>0</td>\n",
       "      <td>0</td>\n",
       "      <td>0</td>\n",
       "      <td>0</td>\n",
       "      <td>0</td>\n",
       "      <td>0</td>\n",
       "      <td>0</td>\n",
       "      <td>0</td>\n",
       "      <td>...</td>\n",
       "      <td>137</td>\n",
       "      <td>126</td>\n",
       "      <td>140</td>\n",
       "      <td>0</td>\n",
       "      <td>133</td>\n",
       "      <td>224</td>\n",
       "      <td>222</td>\n",
       "      <td>56</td>\n",
       "      <td>0</td>\n",
       "      <td>0</td>\n",
       "    </tr>\n",
       "    <tr>\n",
       "      <th>4</th>\n",
       "      <td>3</td>\n",
       "      <td>0</td>\n",
       "      <td>0</td>\n",
       "      <td>0</td>\n",
       "      <td>0</td>\n",
       "      <td>0</td>\n",
       "      <td>0</td>\n",
       "      <td>0</td>\n",
       "      <td>0</td>\n",
       "      <td>0</td>\n",
       "      <td>...</td>\n",
       "      <td>0</td>\n",
       "      <td>0</td>\n",
       "      <td>0</td>\n",
       "      <td>0</td>\n",
       "      <td>0</td>\n",
       "      <td>0</td>\n",
       "      <td>0</td>\n",
       "      <td>0</td>\n",
       "      <td>0</td>\n",
       "      <td>0</td>\n",
       "    </tr>\n",
       "  </tbody>\n",
       "</table>\n",
       "<p>5 rows × 785 columns</p>\n",
       "</div>"
      ],
      "text/plain": [
       "   label  pixel1  pixel2  pixel3  pixel4  pixel5  pixel6  pixel7  pixel8  \\\n",
       "0      0       0       0       0       0       0       0       0       9   \n",
       "1      1       0       0       0       0       0       0       0       0   \n",
       "2      2       0       0       0       0       0       0      14      53   \n",
       "3      2       0       0       0       0       0       0       0       0   \n",
       "4      3       0       0       0       0       0       0       0       0   \n",
       "\n",
       "   pixel9  ...  pixel775  pixel776  pixel777  pixel778  pixel779  pixel780  \\\n",
       "0       8  ...       103        87        56         0         0         0   \n",
       "1       0  ...        34         0         0         0         0         0   \n",
       "2      99  ...         0         0         0         0        63        53   \n",
       "3       0  ...       137       126       140         0       133       224   \n",
       "4       0  ...         0         0         0         0         0         0   \n",
       "\n",
       "   pixel781  pixel782  pixel783  pixel784  \n",
       "0         0         0         0         0  \n",
       "1         0         0         0         0  \n",
       "2        31         0         0         0  \n",
       "3       222        56         0         0  \n",
       "4         0         0         0         0  \n",
       "\n",
       "[5 rows x 785 columns]"
      ]
     },
     "execution_count": 19,
     "metadata": {},
     "output_type": "execute_result"
    }
   ],
   "source": [
    "test = pd.read_csv(\"../input/fashionmnist/fashion-mnist_test.csv\")\n",
    "test.head()"
   ]
  },
  {
   "cell_type": "code",
   "execution_count": 20,
   "id": "pressed-mother",
   "metadata": {
    "execution": {
     "iopub.execute_input": "2021-06-12T21:29:58.324413Z",
     "iopub.status.busy": "2021-06-12T21:29:58.302137Z",
     "iopub.status.idle": "2021-06-12T21:29:58.326833Z",
     "shell.execute_reply": "2021-06-12T21:29:58.327313Z",
     "shell.execute_reply.started": "2021-06-12T21:20:59.019625Z"
    },
    "papermill": {
     "duration": 0.366747,
     "end_time": "2021-06-12T21:29:58.327498",
     "exception": false,
     "start_time": "2021-06-12T21:29:57.960751",
     "status": "completed"
    },
    "tags": []
   },
   "outputs": [],
   "source": [
    "test=test.drop('label',axis=1).to_numpy()"
   ]
  },
  {
   "cell_type": "code",
   "execution_count": 21,
   "id": "perceived-reality",
   "metadata": {
    "execution": {
     "iopub.execute_input": "2021-06-12T21:29:59.007419Z",
     "iopub.status.busy": "2021-06-12T21:29:59.006785Z",
     "iopub.status.idle": "2021-06-12T21:29:59.478742Z",
     "shell.execute_reply": "2021-06-12T21:29:59.479190Z",
     "shell.execute_reply.started": "2021-06-12T21:27:16.272260Z"
    },
    "papermill": {
     "duration": 0.812028,
     "end_time": "2021-06-12T21:29:59.479348",
     "exception": false,
     "start_time": "2021-06-12T21:29:58.667320",
     "status": "completed"
    },
    "tags": []
   },
   "outputs": [
    {
     "data": {
      "text/plain": [
       "array([[8.2662696e-01, 3.4383791e-07, 2.5560104e-03, ..., 2.9653502e-23,\n",
       "        3.1950279e-07, 3.0233305e-22],\n",
       "       [1.6626622e-13, 1.0000000e+00, 4.3860338e-20, ..., 0.0000000e+00,\n",
       "        4.2711447e-14, 0.0000000e+00],\n",
       "       [7.6658860e-02, 6.6910181e-03, 6.2352759e-01, ..., 6.4802018e-04,\n",
       "        2.2100247e-02, 2.1928493e-03],\n",
       "       ...,\n",
       "       [1.2251798e-21, 1.4992030e-38, 1.2898776e-37, ..., 0.0000000e+00,\n",
       "        1.0000000e+00, 3.2754834e-24],\n",
       "       [8.1462063e-02, 1.5632062e-04, 7.6999664e-02, ..., 8.9505523e-09,\n",
       "        5.4493811e-02, 4.0623117e-06],\n",
       "       [1.3712225e-03, 9.8161626e-01, 2.4998159e-05, ..., 4.1692517e-18,\n",
       "        5.7756832e-05, 5.2997243e-17]], dtype=float32)"
      ]
     },
     "execution_count": 21,
     "metadata": {},
     "output_type": "execute_result"
    }
   ],
   "source": [
    "prediction=model.predict(test)\n",
    "prediction \n"
   ]
  },
  {
   "cell_type": "code",
   "execution_count": 22,
   "id": "judicial-regular",
   "metadata": {
    "execution": {
     "iopub.execute_input": "2021-06-12T21:30:00.140610Z",
     "iopub.status.busy": "2021-06-12T21:30:00.140026Z",
     "iopub.status.idle": "2021-06-12T21:30:00.149289Z",
     "shell.execute_reply": "2021-06-12T21:30:00.149874Z",
     "shell.execute_reply.started": "2021-06-12T21:22:55.530815Z"
    },
    "papermill": {
     "duration": 0.340894,
     "end_time": "2021-06-12T21:30:00.150077",
     "exception": false,
     "start_time": "2021-06-12T21:29:59.809183",
     "status": "completed"
    },
    "tags": []
   },
   "outputs": [
    {
     "data": {
      "text/html": [
       "<div>\n",
       "<style scoped>\n",
       "    .dataframe tbody tr th:only-of-type {\n",
       "        vertical-align: middle;\n",
       "    }\n",
       "\n",
       "    .dataframe tbody tr th {\n",
       "        vertical-align: top;\n",
       "    }\n",
       "\n",
       "    .dataframe thead th {\n",
       "        text-align: right;\n",
       "    }\n",
       "</style>\n",
       "<table border=\"1\" class=\"dataframe\">\n",
       "  <thead>\n",
       "    <tr style=\"text-align: right;\">\n",
       "      <th></th>\n",
       "      <th>label</th>\n",
       "    </tr>\n",
       "  </thead>\n",
       "  <tbody>\n",
       "    <tr>\n",
       "      <th>0</th>\n",
       "      <td>0</td>\n",
       "    </tr>\n",
       "    <tr>\n",
       "      <th>1</th>\n",
       "      <td>1</td>\n",
       "    </tr>\n",
       "    <tr>\n",
       "      <th>2</th>\n",
       "      <td>2</td>\n",
       "    </tr>\n",
       "    <tr>\n",
       "      <th>3</th>\n",
       "      <td>2</td>\n",
       "    </tr>\n",
       "    <tr>\n",
       "      <th>4</th>\n",
       "      <td>3</td>\n",
       "    </tr>\n",
       "    <tr>\n",
       "      <th>...</th>\n",
       "      <td>...</td>\n",
       "    </tr>\n",
       "    <tr>\n",
       "      <th>9995</th>\n",
       "      <td>0</td>\n",
       "    </tr>\n",
       "    <tr>\n",
       "      <th>9996</th>\n",
       "      <td>6</td>\n",
       "    </tr>\n",
       "    <tr>\n",
       "      <th>9997</th>\n",
       "      <td>8</td>\n",
       "    </tr>\n",
       "    <tr>\n",
       "      <th>9998</th>\n",
       "      <td>8</td>\n",
       "    </tr>\n",
       "    <tr>\n",
       "      <th>9999</th>\n",
       "      <td>1</td>\n",
       "    </tr>\n",
       "  </tbody>\n",
       "</table>\n",
       "<p>10000 rows × 1 columns</p>\n",
       "</div>"
      ],
      "text/plain": [
       "      label\n",
       "0         0\n",
       "1         1\n",
       "2         2\n",
       "3         2\n",
       "4         3\n",
       "...     ...\n",
       "9995      0\n",
       "9996      6\n",
       "9997      8\n",
       "9998      8\n",
       "9999      1\n",
       "\n",
       "[10000 rows x 1 columns]"
      ]
     },
     "execution_count": 22,
     "metadata": {},
     "output_type": "execute_result"
    }
   ],
   "source": [
    "Y_test.to_frame()"
   ]
  },
  {
   "cell_type": "code",
   "execution_count": 23,
   "id": "modular-assurance",
   "metadata": {
    "execution": {
     "iopub.execute_input": "2021-06-12T21:30:00.817852Z",
     "iopub.status.busy": "2021-06-12T21:30:00.817262Z",
     "iopub.status.idle": "2021-06-12T21:30:02.268764Z",
     "shell.execute_reply": "2021-06-12T21:30:02.269224Z",
     "shell.execute_reply.started": "2021-06-12T21:22:23.075246Z"
    },
    "papermill": {
     "duration": 1.78601,
     "end_time": "2021-06-12T21:30:02.269392",
     "exception": false,
     "start_time": "2021-06-12T21:30:00.483382",
     "status": "completed"
    },
    "tags": []
   },
   "outputs": [
    {
     "data": {
      "image/png": "[encoded data removed]",
      "text/plain": [
       "<Figure size 1152x1152 with 25 Axes>"
      ]
     },
     "metadata": {
      "needs_background": "light"
     },
     "output_type": "display_data"
    }
   ],
   "source": [
    "plt.figure(figsize=(16,16))\n",
    "for i in range(25):\n",
    "  plt.subplot(5,5,i+1)\n",
    "  plt.imshow(test[i].reshape(28,28),cmap=\"Greys\")\n",
    "  plt.axis('off')\n",
    "  plt.title(\"ORIGINAL= {} \\n PREDICTED = {}\".format(class_labels[Y_test[i]], class_labels[np.argmax(prediction[i])]))"
   ]
  }
 ],
 "metadata": {
  "kernelspec": {
   "display_name": "Python 3",
   "language": "python",
   "name": "python3"
  },
  "language_info": {
   "codemirror_mode": {
    "name": "ipython",
    "version": 3
   },
   "file_extension": ".py",
   "mimetype": "text/x-python",
   "name": "python",
   "nbconvert_exporter": "python",
   "pygments_lexer": "ipython3",
   "version": "3.7.10"
  },
  "papermill": {
   "default_parameters": {},
   "duration": 123.84263,
   "end_time": "2021-06-12T21:30:04.259358",
   "environment_variables": {},
   "exception": null,
   "input_path": "__notebook__.ipynb",
   "output_path": "__notebook__.ipynb",
   "parameters": {},
   "start_time": "2021-06-12T21:28:00.416728",
   "version": "2.3.3"
  }
 },
 "nbformat": 4,
 "nbformat_minor": 5
}
